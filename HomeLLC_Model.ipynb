{
 "cells": [
  {
   "cell_type": "markdown",
   "metadata": {
    "id": "wkjxkpqEVtTf"
   },
   "source": [
    "## Importing Necessary Libraries"
   ]
  },
  {
   "cell_type": "code",
   "execution_count": 1,
   "metadata": {
    "id": "KAOsHN6kVtTl"
   },
   "outputs": [],
   "source": [
    "import math\n",
    "\n",
    "#Data Science Libraries\n",
    "import pandas as pd\n",
    "import numpy as np\n",
    "from sklearn.preprocessing import MinMaxScaler\n",
    "from sklearn.model_selection import train_test_split\n",
    "from sklearn import metrics\n",
    "from sklearn.metrics import f1_score,jaccard_score,recall_score,accuracy_score,r2_score\n",
    "\n",
    "#Visualization Libraries\n",
    "import seaborn as sns\n",
    "import matplotlib.pyplot as plt"
   ]
  },
  {
   "cell_type": "markdown",
   "metadata": {
    "id": "iaex9SpyVtTn"
   },
   "source": [
    "## Data Gathering\n",
    "All the followind Datasets are of factors that might potentially affect house prices in the US and are downloaded from sources like FRED etc."
   ]
  },
  {
   "cell_type": "code",
   "execution_count": 2,
   "metadata": {
    "colab": {
     "base_uri": "https://localhost:8080/",
     "height": 235
    },
    "id": "1cI2tC95VtTn",
    "outputId": "1a2c878e-37f7-465e-b281-d240a71f3e5e"
   },
   "outputs": [
    {
     "data": {
      "text/html": [
       "<div>\n",
       "<style scoped>\n",
       "    .dataframe tbody tr th:only-of-type {\n",
       "        vertical-align: middle;\n",
       "    }\n",
       "\n",
       "    .dataframe tbody tr th {\n",
       "        vertical-align: top;\n",
       "    }\n",
       "\n",
       "    .dataframe thead th {\n",
       "        text-align: right;\n",
       "    }\n",
       "</style>\n",
       "<table border=\"1\" class=\"dataframe\">\n",
       "  <thead>\n",
       "    <tr style=\"text-align: right;\">\n",
       "      <th></th>\n",
       "      <th>HPI</th>\n",
       "    </tr>\n",
       "    <tr>\n",
       "      <th>Date</th>\n",
       "      <th></th>\n",
       "    </tr>\n",
       "  </thead>\n",
       "  <tbody>\n",
       "    <tr>\n",
       "      <th>2000Q1</th>\n",
       "      <td>101.339333</td>\n",
       "    </tr>\n",
       "    <tr>\n",
       "      <th>2000Q2</th>\n",
       "      <td>103.674000</td>\n",
       "    </tr>\n",
       "    <tr>\n",
       "      <th>2000Q3</th>\n",
       "      <td>105.785667</td>\n",
       "    </tr>\n",
       "    <tr>\n",
       "      <th>2000Q4</th>\n",
       "      <td>108.272667</td>\n",
       "    </tr>\n",
       "    <tr>\n",
       "      <th>2001Q1</th>\n",
       "      <td>110.484000</td>\n",
       "    </tr>\n",
       "  </tbody>\n",
       "</table>\n",
       "</div>"
      ],
      "text/plain": [
       "               HPI\n",
       "Date              \n",
       "2000Q1  101.339333\n",
       "2000Q2  103.674000\n",
       "2000Q3  105.785667\n",
       "2000Q4  108.272667\n",
       "2001Q1  110.484000"
      ]
     },
     "execution_count": 2,
     "metadata": {},
     "output_type": "execute_result"
    }
   ],
   "source": [
    "#Given House Price Index Dataset\n",
    "HPI=pd.read_csv(\"https://raw.githubusercontent.com/DivyT-03/HomeLLCSubmission/main/CSUSHPISA.csv\")\n",
    "\n",
    "#Keeping Data only after 2000, as we are only intrested in the data from past 20 years\n",
    "HPI=HPI[pd.DatetimeIndex(HPI['DATE']).year>=2000].reset_index(drop=True)\n",
    "HPI.rename(columns={\"DATE\":\"Date\",\"CSUSHPISA\": \"HPI\"}, inplace = True)\n",
    "\n",
    "#As most of the data avaliable was either yearly or Quaterly we converted all data to quaterly data\n",
    "HPI[\"Date\"]=pd.to_datetime(HPI[\"Date\"])\n",
    "HPI[\"Date\"]=HPI.Date.dt.to_period(\"Q\")\n",
    "HPI=HPI.groupby(\"Date\").mean()\n",
    "\n",
    "#Displaying the final Dataframe\n",
    "HPI.head()"
   ]
  },
  {
   "cell_type": "code",
   "execution_count": 3,
   "metadata": {
    "colab": {
     "base_uri": "https://localhost:8080/",
     "height": 235
    },
    "id": "feHPd_v2VtTo",
    "outputId": "1ab41c62-59ad-4059-b3af-67b430d61638"
   },
   "outputs": [
    {
     "data": {
      "text/html": [
       "<div>\n",
       "<style scoped>\n",
       "    .dataframe tbody tr th:only-of-type {\n",
       "        vertical-align: middle;\n",
       "    }\n",
       "\n",
       "    .dataframe tbody tr th {\n",
       "        vertical-align: top;\n",
       "    }\n",
       "\n",
       "    .dataframe thead th {\n",
       "        text-align: right;\n",
       "    }\n",
       "</style>\n",
       "<table border=\"1\" class=\"dataframe\">\n",
       "  <thead>\n",
       "    <tr style=\"text-align: right;\">\n",
       "      <th></th>\n",
       "      <th>GDP</th>\n",
       "    </tr>\n",
       "    <tr>\n",
       "      <th>Date</th>\n",
       "      <th></th>\n",
       "    </tr>\n",
       "  </thead>\n",
       "  <tbody>\n",
       "    <tr>\n",
       "      <th>2000Q1</th>\n",
       "      <td>12924.179</td>\n",
       "    </tr>\n",
       "    <tr>\n",
       "      <th>2000Q2</th>\n",
       "      <td>13160.842</td>\n",
       "    </tr>\n",
       "    <tr>\n",
       "      <th>2000Q3</th>\n",
       "      <td>13178.419</td>\n",
       "    </tr>\n",
       "    <tr>\n",
       "      <th>2000Q4</th>\n",
       "      <td>13260.506</td>\n",
       "    </tr>\n",
       "    <tr>\n",
       "      <th>2001Q1</th>\n",
       "      <td>13222.690</td>\n",
       "    </tr>\n",
       "  </tbody>\n",
       "</table>\n",
       "</div>"
      ],
      "text/plain": [
       "              GDP\n",
       "Date             \n",
       "2000Q1  12924.179\n",
       "2000Q2  13160.842\n",
       "2000Q3  13178.419\n",
       "2000Q4  13260.506\n",
       "2001Q1  13222.690"
      ]
     },
     "execution_count": 3,
     "metadata": {},
     "output_type": "execute_result"
    }
   ],
   "source": [
    "#Source: https://fred.stlouisfed.org/series/GDPC1\n",
    "GDP=pd.read_csv(\"https://raw.githubusercontent.com/DivyT-03/HomeLLCSubmission/main/GDPC1.csv\")\n",
    "GDP=GDP[pd.DatetimeIndex(GDP['DATE']).year>=2000].reset_index(drop=True)\n",
    "GDP=GDP.rename(columns={\"DATE\":\"Date\",\"GDPC1\":\"GDP\"})\n",
    "GDP[\"Date\"]=pd.to_datetime(GDP[\"Date\"])\n",
    "GDP[\"Date\"]=GDP[\"Date\"].dt.to_period(\"Q\")\n",
    "GDP=GDP.groupby(\"Date\").mean()\n",
    "GDP.head()"
   ]
  },
  {
   "cell_type": "code",
   "execution_count": 4,
   "metadata": {
    "colab": {
     "base_uri": "https://localhost:8080/",
     "height": 235
    },
    "id": "Ez_B3r9GVtTo",
    "outputId": "029636b1-8692-421d-e7ec-29239528fb55"
   },
   "outputs": [
    {
     "data": {
      "text/html": [
       "<div>\n",
       "<style scoped>\n",
       "    .dataframe tbody tr th:only-of-type {\n",
       "        vertical-align: middle;\n",
       "    }\n",
       "\n",
       "    .dataframe tbody tr th {\n",
       "        vertical-align: top;\n",
       "    }\n",
       "\n",
       "    .dataframe thead th {\n",
       "        text-align: right;\n",
       "    }\n",
       "</style>\n",
       "<table border=\"1\" class=\"dataframe\">\n",
       "  <thead>\n",
       "    <tr style=\"text-align: right;\">\n",
       "      <th></th>\n",
       "      <th>Inflation</th>\n",
       "    </tr>\n",
       "    <tr>\n",
       "      <th>Date</th>\n",
       "      <th></th>\n",
       "    </tr>\n",
       "  </thead>\n",
       "  <tbody>\n",
       "    <tr>\n",
       "      <th>2000Q1</th>\n",
       "      <td>4.096667</td>\n",
       "    </tr>\n",
       "    <tr>\n",
       "      <th>2000Q2</th>\n",
       "      <td>10.630000</td>\n",
       "    </tr>\n",
       "    <tr>\n",
       "      <th>2000Q3</th>\n",
       "      <td>17.480000</td>\n",
       "    </tr>\n",
       "    <tr>\n",
       "      <th>2000Q4</th>\n",
       "      <td>24.690000</td>\n",
       "    </tr>\n",
       "    <tr>\n",
       "      <th>2001Q1</th>\n",
       "      <td>32.106667</td>\n",
       "    </tr>\n",
       "  </tbody>\n",
       "</table>\n",
       "</div>"
      ],
      "text/plain": [
       "        Inflation\n",
       "Date             \n",
       "2000Q1   4.096667\n",
       "2000Q2  10.630000\n",
       "2000Q3  17.480000\n",
       "2000Q4  24.690000\n",
       "2001Q1  32.106667"
      ]
     },
     "execution_count": 4,
     "metadata": {},
     "output_type": "execute_result"
    }
   ],
   "source": [
    "#Source: https://fred.stlouisfed.org/series/PCETRIM12M159SFRBDAL\n",
    "Inf=pd.read_csv(\"https://raw.githubusercontent.com/DivyT-03/HomeLLCSubmission/main/PCETRIM12M159SFRBDAL.csv\")\n",
    "Inf=Inf.rename(columns={\"DATE\":\"Date\",\"PCETRIM12M159SFRBDAL\":\"Inflation\"})\n",
    "Inf['Inflation']=Inf['Inflation'].cumsum()\n",
    "Inf[\"Date\"]=pd.to_datetime(Inf[\"Date\"])\n",
    "Inf[\"Date\"]=Inf[\"Date\"].dt.to_period(\"Q\")\n",
    "Inf=Inf.groupby(\"Date\").mean()\n",
    "Inf.head()"
   ]
  },
  {
   "cell_type": "code",
   "execution_count": 5,
   "metadata": {
    "colab": {
     "base_uri": "https://localhost:8080/",
     "height": 235
    },
    "id": "ZESqkaeuVtTo",
    "outputId": "c2897672-0910-424f-84d9-3e83619ab429"
   },
   "outputs": [
    {
     "data": {
      "text/html": [
       "<div>\n",
       "<style scoped>\n",
       "    .dataframe tbody tr th:only-of-type {\n",
       "        vertical-align: middle;\n",
       "    }\n",
       "\n",
       "    .dataframe tbody tr th {\n",
       "        vertical-align: top;\n",
       "    }\n",
       "\n",
       "    .dataframe thead th {\n",
       "        text-align: right;\n",
       "    }\n",
       "</style>\n",
       "<table border=\"1\" class=\"dataframe\">\n",
       "  <thead>\n",
       "    <tr style=\"text-align: right;\">\n",
       "      <th></th>\n",
       "      <th>Federal_Debt</th>\n",
       "    </tr>\n",
       "    <tr>\n",
       "      <th>Date</th>\n",
       "      <th></th>\n",
       "    </tr>\n",
       "  </thead>\n",
       "  <tbody>\n",
       "    <tr>\n",
       "      <th>2000Q1</th>\n",
       "      <td>5773392.0</td>\n",
       "    </tr>\n",
       "    <tr>\n",
       "      <th>2000Q2</th>\n",
       "      <td>5685938.0</td>\n",
       "    </tr>\n",
       "    <tr>\n",
       "      <th>2000Q3</th>\n",
       "      <td>5674179.0</td>\n",
       "    </tr>\n",
       "    <tr>\n",
       "      <th>2000Q4</th>\n",
       "      <td>5662216.0</td>\n",
       "    </tr>\n",
       "    <tr>\n",
       "      <th>2001Q1</th>\n",
       "      <td>5773740.0</td>\n",
       "    </tr>\n",
       "  </tbody>\n",
       "</table>\n",
       "</div>"
      ],
      "text/plain": [
       "        Federal_Debt\n",
       "Date                \n",
       "2000Q1     5773392.0\n",
       "2000Q2     5685938.0\n",
       "2000Q3     5674179.0\n",
       "2000Q4     5662216.0\n",
       "2001Q1     5773740.0"
      ]
     },
     "execution_count": 5,
     "metadata": {},
     "output_type": "execute_result"
    }
   ],
   "source": [
    "#Source: https://fred.stlouisfed.org/series/GFDEBTN\n",
    "Debt=pd.read_csv(\"https://raw.githubusercontent.com/DivyT-03/HomeLLCSubmission/main/GFDEBTN.csv\")\n",
    "Debt=Debt[pd.DatetimeIndex(Debt['DATE']).year>=2000].reset_index(drop=True)\n",
    "Debt=Debt.rename(columns={\"DATE\":\"Date\",\"GFDEBTN\":\"Federal_Debt\"})\n",
    "Debt[\"Date\"]=pd.to_datetime(Debt[\"Date\"])\n",
    "Debt[\"Date\"]=Debt[\"Date\"].dt.to_period(\"Q\")\n",
    "Debt=Debt.groupby(\"Date\").mean()\n",
    "Debt.head()"
   ]
  },
  {
   "cell_type": "code",
   "execution_count": 6,
   "metadata": {
    "colab": {
     "base_uri": "https://localhost:8080/",
     "height": 235
    },
    "id": "J8CmGnogVtTp",
    "outputId": "1ef4a68b-6530-4fbf-8e07-1b5fcee45e79"
   },
   "outputs": [
    {
     "data": {
      "text/html": [
       "<div>\n",
       "<style scoped>\n",
       "    .dataframe tbody tr th:only-of-type {\n",
       "        vertical-align: middle;\n",
       "    }\n",
       "\n",
       "    .dataframe tbody tr th {\n",
       "        vertical-align: top;\n",
       "    }\n",
       "\n",
       "    .dataframe thead th {\n",
       "        text-align: right;\n",
       "    }\n",
       "</style>\n",
       "<table border=\"1\" class=\"dataframe\">\n",
       "  <thead>\n",
       "    <tr style=\"text-align: right;\">\n",
       "      <th></th>\n",
       "      <th>Unemployment</th>\n",
       "    </tr>\n",
       "    <tr>\n",
       "      <th>Date</th>\n",
       "      <th></th>\n",
       "    </tr>\n",
       "  </thead>\n",
       "  <tbody>\n",
       "    <tr>\n",
       "      <th>2000Q1</th>\n",
       "      <td>4.033333</td>\n",
       "    </tr>\n",
       "    <tr>\n",
       "      <th>2000Q2</th>\n",
       "      <td>3.933333</td>\n",
       "    </tr>\n",
       "    <tr>\n",
       "      <th>2000Q3</th>\n",
       "      <td>4.000000</td>\n",
       "    </tr>\n",
       "    <tr>\n",
       "      <th>2000Q4</th>\n",
       "      <td>3.900000</td>\n",
       "    </tr>\n",
       "    <tr>\n",
       "      <th>2001Q1</th>\n",
       "      <td>4.233333</td>\n",
       "    </tr>\n",
       "  </tbody>\n",
       "</table>\n",
       "</div>"
      ],
      "text/plain": [
       "        Unemployment\n",
       "Date                \n",
       "2000Q1      4.033333\n",
       "2000Q2      3.933333\n",
       "2000Q3      4.000000\n",
       "2000Q4      3.900000\n",
       "2001Q1      4.233333"
      ]
     },
     "execution_count": 6,
     "metadata": {},
     "output_type": "execute_result"
    }
   ],
   "source": [
    "#Souces: https://fred.stlouisfed.org/series/UNRATE\n",
    "Unemp=pd.read_csv(\"https://raw.githubusercontent.com/DivyT-03/HomeLLCSubmission/main/UNRATE.csv\")\n",
    "Unemp=Unemp.rename(columns={\"DATE\":\"Date\",\"UNRATE\":\"Unemployment\"})\n",
    "Unemp[\"Date\"]=pd.to_datetime(Unemp[\"Date\"])\n",
    "Unemp[\"Date\"]=Unemp[\"Date\"].dt.to_period(\"Q\")\n",
    "Unemp=Unemp.groupby(\"Date\").mean()\n",
    "Unemp.head()"
   ]
  },
  {
   "cell_type": "code",
   "execution_count": 7,
   "metadata": {
    "colab": {
     "base_uri": "https://localhost:8080/",
     "height": 235
    },
    "id": "Yeni72ZVVtTp",
    "outputId": "647aacb1-1f94-48a1-e6e7-6e56613164e6"
   },
   "outputs": [
    {
     "data": {
      "text/html": [
       "<div>\n",
       "<style scoped>\n",
       "    .dataframe tbody tr th:only-of-type {\n",
       "        vertical-align: middle;\n",
       "    }\n",
       "\n",
       "    .dataframe tbody tr th {\n",
       "        vertical-align: top;\n",
       "    }\n",
       "\n",
       "    .dataframe thead th {\n",
       "        text-align: right;\n",
       "    }\n",
       "</style>\n",
       "<table border=\"1\" class=\"dataframe\">\n",
       "  <thead>\n",
       "    <tr style=\"text-align: right;\">\n",
       "      <th></th>\n",
       "      <th>Tax</th>\n",
       "    </tr>\n",
       "    <tr>\n",
       "      <th>Date</th>\n",
       "      <th></th>\n",
       "    </tr>\n",
       "  </thead>\n",
       "  <tbody>\n",
       "    <tr>\n",
       "      <th>2000Q1</th>\n",
       "      <td>1272.073</td>\n",
       "    </tr>\n",
       "    <tr>\n",
       "      <th>2000Q2</th>\n",
       "      <td>1284.187</td>\n",
       "    </tr>\n",
       "    <tr>\n",
       "      <th>2000Q3</th>\n",
       "      <td>1291.650</td>\n",
       "    </tr>\n",
       "    <tr>\n",
       "      <th>2000Q4</th>\n",
       "      <td>1306.215</td>\n",
       "    </tr>\n",
       "    <tr>\n",
       "      <th>2001Q1</th>\n",
       "      <td>1301.000</td>\n",
       "    </tr>\n",
       "  </tbody>\n",
       "</table>\n",
       "</div>"
      ],
      "text/plain": [
       "             Tax\n",
       "Date            \n",
       "2000Q1  1272.073\n",
       "2000Q2  1284.187\n",
       "2000Q3  1291.650\n",
       "2000Q4  1306.215\n",
       "2001Q1  1301.000"
      ]
     },
     "execution_count": 7,
     "metadata": {},
     "output_type": "execute_result"
    }
   ],
   "source": [
    "#Source: https://fred.stlouisfed.org/series/W006RC1Q027SBEA\n",
    "Tax=pd.read_csv(\"https://raw.githubusercontent.com/DivyT-03/HomeLLCSubmission/main/W006RC1Q027SBEA.csv\")\n",
    "Tax=Tax.rename(columns={\"DATE\":\"Date\",\"W006RC1Q027SBEA\":\"Tax\"})\n",
    "Tax[\"Date\"]=pd.to_datetime(Tax[\"Date\"])\n",
    "Tax[\"Date\"]=Tax[\"Date\"].dt.to_period(\"Q\")\n",
    "Tax=Tax.groupby(\"Date\").mean()\n",
    "Tax.head()"
   ]
  },
  {
   "cell_type": "code",
   "execution_count": 8,
   "metadata": {
    "colab": {
     "base_uri": "https://localhost:8080/",
     "height": 235
    },
    "id": "e_TwV77MVtTq",
    "outputId": "7d4c70f7-9a2c-4cf4-a5cd-7432929aeaa3"
   },
   "outputs": [
    {
     "data": {
      "text/html": [
       "<div>\n",
       "<style scoped>\n",
       "    .dataframe tbody tr th:only-of-type {\n",
       "        vertical-align: middle;\n",
       "    }\n",
       "\n",
       "    .dataframe tbody tr th {\n",
       "        vertical-align: top;\n",
       "    }\n",
       "\n",
       "    .dataframe thead th {\n",
       "        text-align: right;\n",
       "    }\n",
       "</style>\n",
       "<table border=\"1\" class=\"dataframe\">\n",
       "  <thead>\n",
       "    <tr style=\"text-align: right;\">\n",
       "      <th></th>\n",
       "      <th>Income</th>\n",
       "    </tr>\n",
       "    <tr>\n",
       "      <th>Date</th>\n",
       "      <th></th>\n",
       "    </tr>\n",
       "  </thead>\n",
       "  <tbody>\n",
       "    <tr>\n",
       "      <th>2000Q1</th>\n",
       "      <td>2.595965e+12</td>\n",
       "    </tr>\n",
       "    <tr>\n",
       "      <th>2000Q2</th>\n",
       "      <td>2.595965e+12</td>\n",
       "    </tr>\n",
       "    <tr>\n",
       "      <th>2000Q3</th>\n",
       "      <td>2.595965e+12</td>\n",
       "    </tr>\n",
       "    <tr>\n",
       "      <th>2000Q4</th>\n",
       "      <td>2.595965e+12</td>\n",
       "    </tr>\n",
       "    <tr>\n",
       "      <th>2001Q1</th>\n",
       "      <td>2.685927e+12</td>\n",
       "    </tr>\n",
       "  </tbody>\n",
       "</table>\n",
       "</div>"
      ],
      "text/plain": [
       "              Income\n",
       "Date                \n",
       "2000Q1  2.595965e+12\n",
       "2000Q2  2.595965e+12\n",
       "2000Q3  2.595965e+12\n",
       "2000Q4  2.595965e+12\n",
       "2001Q1  2.685927e+12"
      ]
     },
     "execution_count": 8,
     "metadata": {},
     "output_type": "execute_result"
    }
   ],
   "source": [
    "#Source: https://fred.stlouisfed.org/series/MKTGNIUSA646NWDB\n",
    "GPI=pd.read_csv(\"https://raw.githubusercontent.com/DivyT-03/HomeLLCSubmission/main/MKTGNIUSA646NWDB.csv\")\n",
    "GPI=GPI.rename(columns={\"DATE\":\"Date\",\"MKTGNIUSA646NWDB\":\"Income\"})\n",
    "GPI[\"Date\"]=pd.to_datetime(GPI[\"Date\"])\n",
    "for i in [6,3]:\n",
    "    tmp=GPI.copy()\n",
    "    tmp[\"Date\"]=GPI.Date + pd.DateOffset(months=i)\n",
    "    GPI=pd.concat([GPI,tmp])\n",
    "GPI[\"Date\"]=GPI[\"Date\"].dt.to_period(\"Q\")\n",
    "GPI=GPI.groupby(\"Date\").mean()\n",
    "GPI[\"Income\"]=GPI[\"Income\"]/4\n",
    "GPI.head()"
   ]
  },
  {
   "cell_type": "code",
   "execution_count": 9,
   "metadata": {
    "colab": {
     "base_uri": "https://localhost:8080/",
     "height": 235
    },
    "id": "N0oz0k7cVtTq",
    "outputId": "ec8eb56d-1d37-43b2-d32a-37519c2ca14f"
   },
   "outputs": [
    {
     "data": {
      "text/html": [
       "<div>\n",
       "<style scoped>\n",
       "    .dataframe tbody tr th:only-of-type {\n",
       "        vertical-align: middle;\n",
       "    }\n",
       "\n",
       "    .dataframe tbody tr th {\n",
       "        vertical-align: top;\n",
       "    }\n",
       "\n",
       "    .dataframe thead th {\n",
       "        text-align: right;\n",
       "    }\n",
       "</style>\n",
       "<table border=\"1\" class=\"dataframe\">\n",
       "  <thead>\n",
       "    <tr style=\"text-align: right;\">\n",
       "      <th></th>\n",
       "      <th>Population</th>\n",
       "    </tr>\n",
       "    <tr>\n",
       "      <th>Date</th>\n",
       "      <th></th>\n",
       "    </tr>\n",
       "  </thead>\n",
       "  <tbody>\n",
       "    <tr>\n",
       "      <th>2000Q1</th>\n",
       "      <td>281304.333333</td>\n",
       "    </tr>\n",
       "    <tr>\n",
       "      <th>2000Q2</th>\n",
       "      <td>282002.000000</td>\n",
       "    </tr>\n",
       "    <tr>\n",
       "      <th>2000Q3</th>\n",
       "      <td>282768.666667</td>\n",
       "    </tr>\n",
       "    <tr>\n",
       "      <th>2000Q4</th>\n",
       "      <td>283518.666667</td>\n",
       "    </tr>\n",
       "    <tr>\n",
       "      <th>2001Q1</th>\n",
       "      <td>284168.666667</td>\n",
       "    </tr>\n",
       "  </tbody>\n",
       "</table>\n",
       "</div>"
      ],
      "text/plain": [
       "           Population\n",
       "Date                 \n",
       "2000Q1  281304.333333\n",
       "2000Q2  282002.000000\n",
       "2000Q3  282768.666667\n",
       "2000Q4  283518.666667\n",
       "2001Q1  284168.666667"
      ]
     },
     "execution_count": 9,
     "metadata": {},
     "output_type": "execute_result"
    }
   ],
   "source": [
    "#Source: https://fred.stlouisfed.org/series/POPTHM\n",
    "Population=pd.read_csv(\"https://raw.githubusercontent.com/DivyT-03/HomeLLCSubmission/main/POPTHM.csv\")\n",
    "Population=Population.rename(columns={\"DATE\":\"Date\",\"POPTHM\":\"Population\"})\n",
    "Population[\"Date\"]=pd.to_datetime(Population[\"Date\"])\n",
    "Population[\"Date\"]=Population[\"Date\"].dt.to_period(\"Q\")\n",
    "Population=Population.groupby(\"Date\").mean()\n",
    "Population.head()"
   ]
  },
  {
   "cell_type": "code",
   "execution_count": 10,
   "metadata": {
    "colab": {
     "base_uri": "https://localhost:8080/",
     "height": 235
    },
    "id": "0oufniMqVtTq",
    "outputId": "34f55a7b-a5ad-4151-c137-fa245390c11f"
   },
   "outputs": [
    {
     "data": {
      "text/html": [
       "<div>\n",
       "<style scoped>\n",
       "    .dataframe tbody tr th:only-of-type {\n",
       "        vertical-align: middle;\n",
       "    }\n",
       "\n",
       "    .dataframe tbody tr th {\n",
       "        vertical-align: top;\n",
       "    }\n",
       "\n",
       "    .dataframe thead th {\n",
       "        text-align: right;\n",
       "    }\n",
       "</style>\n",
       "<table border=\"1\" class=\"dataframe\">\n",
       "  <thead>\n",
       "    <tr style=\"text-align: right;\">\n",
       "      <th></th>\n",
       "      <th>House Loans</th>\n",
       "    </tr>\n",
       "    <tr>\n",
       "      <th>Date</th>\n",
       "      <th></th>\n",
       "    </tr>\n",
       "  </thead>\n",
       "  <tbody>\n",
       "    <tr>\n",
       "      <th>2000Q1</th>\n",
       "      <td>106.641623</td>\n",
       "    </tr>\n",
       "    <tr>\n",
       "      <th>2000Q2</th>\n",
       "      <td>112.998038</td>\n",
       "    </tr>\n",
       "    <tr>\n",
       "      <th>2000Q3</th>\n",
       "      <td>120.024838</td>\n",
       "    </tr>\n",
       "    <tr>\n",
       "      <th>2000Q4</th>\n",
       "      <td>125.684062</td>\n",
       "    </tr>\n",
       "    <tr>\n",
       "      <th>2001Q1</th>\n",
       "      <td>130.251223</td>\n",
       "    </tr>\n",
       "  </tbody>\n",
       "</table>\n",
       "</div>"
      ],
      "text/plain": [
       "        House Loans\n",
       "Date               \n",
       "2000Q1   106.641623\n",
       "2000Q2   112.998038\n",
       "2000Q3   120.024838\n",
       "2000Q4   125.684062\n",
       "2001Q1   130.251223"
      ]
     },
     "execution_count": 10,
     "metadata": {},
     "output_type": "execute_result"
    }
   ],
   "source": [
    "#Source: https://fred.stlouisfed.org/series/RHEACBW027SBOG\n",
    "Loans=pd.read_csv(\"https://raw.githubusercontent.com/DivyT-03/HomeLLCSubmission/main/RHEACBW027SBOG.csv\")\n",
    "Loans=Loans.rename(columns={\"DATE\":\"Date\",\"RHEACBW027SBOG\":\"House Loans\"})\n",
    "Loans[\"Date\"]=pd.to_datetime(Loans[\"Date\"])\n",
    "Loans[\"Date\"]=Loans[\"Date\"].dt.to_period(\"Q\")\n",
    "Loans=Loans.groupby(\"Date\").mean()\n",
    "Loans.head()"
   ]
  },
  {
   "cell_type": "code",
   "execution_count": 11,
   "metadata": {
    "colab": {
     "base_uri": "https://localhost:8080/",
     "height": 235
    },
    "id": "NbVMrjanVtTr",
    "outputId": "9f5ef8cb-5781-4b85-accb-f60a438d9789"
   },
   "outputs": [
    {
     "data": {
      "text/html": [
       "<div>\n",
       "<style scoped>\n",
       "    .dataframe tbody tr th:only-of-type {\n",
       "        vertical-align: middle;\n",
       "    }\n",
       "\n",
       "    .dataframe tbody tr th {\n",
       "        vertical-align: top;\n",
       "    }\n",
       "\n",
       "    .dataframe thead th {\n",
       "        text-align: right;\n",
       "    }\n",
       "</style>\n",
       "<table border=\"1\" class=\"dataframe\">\n",
       "  <thead>\n",
       "    <tr style=\"text-align: right;\">\n",
       "      <th></th>\n",
       "      <th>Institution Fails</th>\n",
       "    </tr>\n",
       "    <tr>\n",
       "      <th>Date</th>\n",
       "      <th></th>\n",
       "    </tr>\n",
       "  </thead>\n",
       "  <tbody>\n",
       "    <tr>\n",
       "      <th>2000Q1</th>\n",
       "      <td>1.75</td>\n",
       "    </tr>\n",
       "    <tr>\n",
       "      <th>2000Q2</th>\n",
       "      <td>1.75</td>\n",
       "    </tr>\n",
       "    <tr>\n",
       "      <th>2000Q3</th>\n",
       "      <td>1.75</td>\n",
       "    </tr>\n",
       "    <tr>\n",
       "      <th>2000Q4</th>\n",
       "      <td>1.75</td>\n",
       "    </tr>\n",
       "    <tr>\n",
       "      <th>2001Q1</th>\n",
       "      <td>1.00</td>\n",
       "    </tr>\n",
       "  </tbody>\n",
       "</table>\n",
       "</div>"
      ],
      "text/plain": [
       "        Institution Fails\n",
       "Date                     \n",
       "2000Q1               1.75\n",
       "2000Q2               1.75\n",
       "2000Q3               1.75\n",
       "2000Q4               1.75\n",
       "2001Q1               1.00"
      ]
     },
     "execution_count": 11,
     "metadata": {},
     "output_type": "execute_result"
    }
   ],
   "source": [
    "#Source: https://fred.stlouisfed.org/series/BKFTTLA641N\n",
    "Fails=pd.read_csv(\"https://raw.githubusercontent.com/DivyT-03/HomeLLCSubmission/main/BKFTTLA641N.csv\")\n",
    "Fails=Fails.rename(columns={\"DATE\":\"Date\",\"BKFTTLA641N\":\"Institution Fails\"})\n",
    "Fails[\"Date\"]=pd.to_datetime(Fails[\"Date\"])\n",
    "for i in [6,3]:\n",
    "    tmp=Fails.copy()\n",
    "    tmp[\"Date\"]=Fails.Date + pd.DateOffset(months=i)\n",
    "    Fails=pd.concat([Fails,tmp])\n",
    "Fails[\"Date\"]=Fails[\"Date\"].dt.to_period(\"Q\")\n",
    "Fails=Fails.groupby(\"Date\").mean()\n",
    "Fails[\"Institution Fails\"]=Fails[\"Institution Fails\"]/4\n",
    "Fails.head()"
   ]
  },
  {
   "cell_type": "code",
   "execution_count": 12,
   "metadata": {
    "colab": {
     "base_uri": "https://localhost:8080/",
     "height": 235
    },
    "id": "aVsyBp7ZVtTr",
    "outputId": "9cf5f846-985a-428d-e69e-6d1c206a665c"
   },
   "outputs": [
    {
     "data": {
      "text/html": [
       "<div>\n",
       "<style scoped>\n",
       "    .dataframe tbody tr th:only-of-type {\n",
       "        vertical-align: middle;\n",
       "    }\n",
       "\n",
       "    .dataframe tbody tr th {\n",
       "        vertical-align: top;\n",
       "    }\n",
       "\n",
       "    .dataframe thead th {\n",
       "        text-align: right;\n",
       "    }\n",
       "</style>\n",
       "<table border=\"1\" class=\"dataframe\">\n",
       "  <thead>\n",
       "    <tr style=\"text-align: right;\">\n",
       "      <th></th>\n",
       "      <th>Market Flow</th>\n",
       "    </tr>\n",
       "    <tr>\n",
       "      <th>Date</th>\n",
       "      <th></th>\n",
       "    </tr>\n",
       "  </thead>\n",
       "  <tbody>\n",
       "    <tr>\n",
       "      <th>2000Q1</th>\n",
       "      <td>273021.0</td>\n",
       "    </tr>\n",
       "    <tr>\n",
       "      <th>2000Q2</th>\n",
       "      <td>95791.0</td>\n",
       "    </tr>\n",
       "    <tr>\n",
       "      <th>2000Q3</th>\n",
       "      <td>265705.0</td>\n",
       "    </tr>\n",
       "    <tr>\n",
       "      <th>2000Q4</th>\n",
       "      <td>293891.0</td>\n",
       "    </tr>\n",
       "    <tr>\n",
       "      <th>2001Q1</th>\n",
       "      <td>746537.0</td>\n",
       "    </tr>\n",
       "  </tbody>\n",
       "</table>\n",
       "</div>"
      ],
      "text/plain": [
       "        Market Flow\n",
       "Date               \n",
       "2000Q1     273021.0\n",
       "2000Q2      95791.0\n",
       "2000Q3     265705.0\n",
       "2000Q4     293891.0\n",
       "2001Q1     746537.0"
      ]
     },
     "execution_count": 12,
     "metadata": {},
     "output_type": "execute_result"
    }
   ],
   "source": [
    "#Source: https://fred.stlouisfed.org/series/MMMFTAQ027S\n",
    "Market=pd.read_csv(\"https://raw.githubusercontent.com/DivyT-03/HomeLLCSubmission/main/MMMFTAQ027S.csv\")\n",
    "Market=Market.rename(columns={\"DATE\":\"Date\",\"MMMFTAQ027S\":\"Market Flow\"})\n",
    "Market[\"Date\"]=pd.to_datetime(Market[\"Date\"])\n",
    "Market[\"Date\"]=Market[\"Date\"].dt.to_period(\"Q\")\n",
    "Market=Market.groupby(\"Date\").mean()\n",
    "Market.head()"
   ]
  },
  {
   "cell_type": "code",
   "execution_count": 13,
   "metadata": {
    "colab": {
     "base_uri": "https://localhost:8080/",
     "height": 235
    },
    "id": "p31yRuafVtTr",
    "outputId": "0d29e05a-7972-426a-879a-c37f94f3c3b9"
   },
   "outputs": [
    {
     "data": {
      "text/html": [
       "<div>\n",
       "<style scoped>\n",
       "    .dataframe tbody tr th:only-of-type {\n",
       "        vertical-align: middle;\n",
       "    }\n",
       "\n",
       "    .dataframe tbody tr th {\n",
       "        vertical-align: top;\n",
       "    }\n",
       "\n",
       "    .dataframe thead th {\n",
       "        text-align: right;\n",
       "    }\n",
       "</style>\n",
       "<table border=\"1\" class=\"dataframe\">\n",
       "  <thead>\n",
       "    <tr style=\"text-align: right;\">\n",
       "      <th></th>\n",
       "      <th>Intrest Rates</th>\n",
       "    </tr>\n",
       "    <tr>\n",
       "      <th>Date</th>\n",
       "      <th></th>\n",
       "    </tr>\n",
       "  </thead>\n",
       "  <tbody>\n",
       "    <tr>\n",
       "      <th>2000Q1</th>\n",
       "      <td>5.193333</td>\n",
       "    </tr>\n",
       "    <tr>\n",
       "      <th>2000Q2</th>\n",
       "      <td>5.736667</td>\n",
       "    </tr>\n",
       "    <tr>\n",
       "      <th>2000Q3</th>\n",
       "      <td>6.000000</td>\n",
       "    </tr>\n",
       "    <tr>\n",
       "      <th>2000Q4</th>\n",
       "      <td>6.000000</td>\n",
       "    </tr>\n",
       "    <tr>\n",
       "      <th>2001Q1</th>\n",
       "      <td>5.110000</td>\n",
       "    </tr>\n",
       "  </tbody>\n",
       "</table>\n",
       "</div>"
      ],
      "text/plain": [
       "        Intrest Rates\n",
       "Date                 \n",
       "2000Q1       5.193333\n",
       "2000Q2       5.736667\n",
       "2000Q3       6.000000\n",
       "2000Q4       6.000000\n",
       "2001Q1       5.110000"
      ]
     },
     "execution_count": 13,
     "metadata": {},
     "output_type": "execute_result"
    }
   ],
   "source": [
    "#Source: https://fred.stlouisfed.org/series/INTDSRUSM193N\n",
    "Intrest=pd.read_csv(\"https://raw.githubusercontent.com/DivyT-03/HomeLLCSubmission/main/INTDSRUSM193N.csv\")\n",
    "Intrest=Intrest.rename(columns={\"DATE\":\"Date\",\"INTDSRUSM193N\":\"Intrest Rates\"})\n",
    "Intrest[\"Date\"]=pd.to_datetime(Intrest[\"Date\"])\n",
    "Intrest[\"Date\"]=Intrest[\"Date\"].dt.to_period(\"Q\")\n",
    "Intrest=Intrest.groupby(\"Date\").mean()\n",
    "Intrest.head()"
   ]
  },
  {
   "cell_type": "code",
   "execution_count": 14,
   "metadata": {
    "colab": {
     "base_uri": "https://localhost:8080/",
     "height": 235
    },
    "id": "0zS6XR2KVtTs",
    "outputId": "aaa8ea9f-9d58-4ac0-d978-b2ff9f0b5699"
   },
   "outputs": [
    {
     "data": {
      "text/html": [
       "<div>\n",
       "<style scoped>\n",
       "    .dataframe tbody tr th:only-of-type {\n",
       "        vertical-align: middle;\n",
       "    }\n",
       "\n",
       "    .dataframe tbody tr th {\n",
       "        vertical-align: top;\n",
       "    }\n",
       "\n",
       "    .dataframe thead th {\n",
       "        text-align: right;\n",
       "    }\n",
       "</style>\n",
       "<table border=\"1\" class=\"dataframe\">\n",
       "  <thead>\n",
       "    <tr style=\"text-align: right;\">\n",
       "      <th></th>\n",
       "      <th>Market Level</th>\n",
       "    </tr>\n",
       "    <tr>\n",
       "      <th>Date</th>\n",
       "      <th></th>\n",
       "    </tr>\n",
       "  </thead>\n",
       "  <tbody>\n",
       "    <tr>\n",
       "      <th>2000Q1</th>\n",
       "      <td>5.193333</td>\n",
       "    </tr>\n",
       "    <tr>\n",
       "      <th>2000Q2</th>\n",
       "      <td>5.736667</td>\n",
       "    </tr>\n",
       "    <tr>\n",
       "      <th>2000Q3</th>\n",
       "      <td>6.000000</td>\n",
       "    </tr>\n",
       "    <tr>\n",
       "      <th>2000Q4</th>\n",
       "      <td>6.000000</td>\n",
       "    </tr>\n",
       "    <tr>\n",
       "      <th>2001Q1</th>\n",
       "      <td>5.110000</td>\n",
       "    </tr>\n",
       "  </tbody>\n",
       "</table>\n",
       "</div>"
      ],
      "text/plain": [
       "        Market Level\n",
       "Date                \n",
       "2000Q1      5.193333\n",
       "2000Q2      5.736667\n",
       "2000Q3      6.000000\n",
       "2000Q4      6.000000\n",
       "2001Q1      5.110000"
      ]
     },
     "execution_count": 14,
     "metadata": {},
     "output_type": "execute_result"
    }
   ],
   "source": [
    "#Source: https://fred.stlouisfed.org/series/MMMFFAQ027S\n",
    "Level=pd.read_csv(\"https://raw.githubusercontent.com/DivyT-03/HomeLLCSubmission/main/INTDSRUSM193N.csv\")\n",
    "Level=Level.rename(columns={\"DATE\":\"Date\",\"INTDSRUSM193N\":\"Market Level\"})\n",
    "Level[\"Date\"]=pd.to_datetime(Level[\"Date\"])\n",
    "Level[\"Date\"]=Level[\"Date\"].dt.to_period(\"Q\")\n",
    "Level=Level.groupby(\"Date\").mean()\n",
    "Level.head()"
   ]
  },
  {
   "cell_type": "code",
   "execution_count": 15,
   "metadata": {
    "colab": {
     "base_uri": "https://localhost:8080/",
     "height": 235
    },
    "id": "RBOR3-0BVtTs",
    "outputId": "4a131270-a2b0-4ac1-fdc1-0597f319ed6b"
   },
   "outputs": [
    {
     "data": {
      "text/html": [
       "<div>\n",
       "<style scoped>\n",
       "    .dataframe tbody tr th:only-of-type {\n",
       "        vertical-align: middle;\n",
       "    }\n",
       "\n",
       "    .dataframe tbody tr th {\n",
       "        vertical-align: top;\n",
       "    }\n",
       "\n",
       "    .dataframe thead th {\n",
       "        text-align: right;\n",
       "    }\n",
       "</style>\n",
       "<table border=\"1\" class=\"dataframe\">\n",
       "  <thead>\n",
       "    <tr style=\"text-align: right;\">\n",
       "      <th></th>\n",
       "      <th>Mortgage Rate</th>\n",
       "    </tr>\n",
       "    <tr>\n",
       "      <th>Date</th>\n",
       "      <th></th>\n",
       "    </tr>\n",
       "  </thead>\n",
       "  <tbody>\n",
       "    <tr>\n",
       "      <th>2000Q1</th>\n",
       "      <td>8.256923</td>\n",
       "    </tr>\n",
       "    <tr>\n",
       "      <th>2000Q2</th>\n",
       "      <td>8.316154</td>\n",
       "    </tr>\n",
       "    <tr>\n",
       "      <th>2000Q3</th>\n",
       "      <td>8.020000</td>\n",
       "    </tr>\n",
       "    <tr>\n",
       "      <th>2000Q4</th>\n",
       "      <td>7.620769</td>\n",
       "    </tr>\n",
       "    <tr>\n",
       "      <th>2001Q1</th>\n",
       "      <td>7.006923</td>\n",
       "    </tr>\n",
       "  </tbody>\n",
       "</table>\n",
       "</div>"
      ],
      "text/plain": [
       "        Mortgage Rate\n",
       "Date                 \n",
       "2000Q1       8.256923\n",
       "2000Q2       8.316154\n",
       "2000Q3       8.020000\n",
       "2000Q4       7.620769\n",
       "2001Q1       7.006923"
      ]
     },
     "execution_count": 15,
     "metadata": {},
     "output_type": "execute_result"
    }
   ],
   "source": [
    "#Source: https://fred.stlouisfed.org/series/MORTGAGE30US\n",
    "Mortgage=pd.read_csv(\"https://raw.githubusercontent.com/DivyT-03/HomeLLCSubmission/main/MORTGAGE30US.csv\")\n",
    "Mortgage=Mortgage.rename(columns={\"DATE\":\"Date\",\"MORTGAGE30US\":\"Mortgage Rate\"})\n",
    "Mortgage[\"Date\"]=pd.to_datetime(Mortgage[\"Date\"])\n",
    "Mortgage[\"Date\"]=Mortgage[\"Date\"].dt.to_period(\"Q\")\n",
    "Mortgage=Mortgage.groupby(\"Date\").mean()\n",
    "Mortgage.head()"
   ]
  },
  {
   "cell_type": "markdown",
   "metadata": {
    "id": "mHD0K3QKVtTs"
   },
   "source": [
    "## Database Creation"
   ]
  },
  {
   "cell_type": "code",
   "execution_count": 16,
   "metadata": {
    "colab": {
     "base_uri": "https://localhost:8080/",
     "height": 272
    },
    "id": "6Geo0_StVtTt",
    "outputId": "78e2842a-9578-48c9-dfe3-bb8cf2f68ffe"
   },
   "outputs": [
    {
     "data": {
      "text/html": [
       "<div>\n",
       "<style scoped>\n",
       "    .dataframe tbody tr th:only-of-type {\n",
       "        vertical-align: middle;\n",
       "    }\n",
       "\n",
       "    .dataframe tbody tr th {\n",
       "        vertical-align: top;\n",
       "    }\n",
       "\n",
       "    .dataframe thead th {\n",
       "        text-align: right;\n",
       "    }\n",
       "</style>\n",
       "<table border=\"1\" class=\"dataframe\">\n",
       "  <thead>\n",
       "    <tr style=\"text-align: right;\">\n",
       "      <th></th>\n",
       "      <th>GDP</th>\n",
       "      <th>Income</th>\n",
       "      <th>Inflation</th>\n",
       "      <th>Market Flow</th>\n",
       "      <th>Market Level</th>\n",
       "      <th>Mortgage Rate</th>\n",
       "      <th>Tax</th>\n",
       "      <th>Intrest Rates</th>\n",
       "      <th>House Loans</th>\n",
       "      <th>Federal_Debt</th>\n",
       "      <th>Institution Fails</th>\n",
       "      <th>Population</th>\n",
       "      <th>Unemployment</th>\n",
       "      <th>HPI</th>\n",
       "    </tr>\n",
       "    <tr>\n",
       "      <th>Date</th>\n",
       "      <th></th>\n",
       "      <th></th>\n",
       "      <th></th>\n",
       "      <th></th>\n",
       "      <th></th>\n",
       "      <th></th>\n",
       "      <th></th>\n",
       "      <th></th>\n",
       "      <th></th>\n",
       "      <th></th>\n",
       "      <th></th>\n",
       "      <th></th>\n",
       "      <th></th>\n",
       "      <th></th>\n",
       "    </tr>\n",
       "  </thead>\n",
       "  <tbody>\n",
       "    <tr>\n",
       "      <th>2000Q1</th>\n",
       "      <td>12924.179</td>\n",
       "      <td>2.595965e+12</td>\n",
       "      <td>4.096667</td>\n",
       "      <td>273021.0</td>\n",
       "      <td>5.193333</td>\n",
       "      <td>8.256923</td>\n",
       "      <td>1272.073</td>\n",
       "      <td>5.193333</td>\n",
       "      <td>106.641623</td>\n",
       "      <td>5773392.0</td>\n",
       "      <td>1.75</td>\n",
       "      <td>281304.333333</td>\n",
       "      <td>4.033333</td>\n",
       "      <td>101.339333</td>\n",
       "    </tr>\n",
       "    <tr>\n",
       "      <th>2000Q2</th>\n",
       "      <td>13160.842</td>\n",
       "      <td>2.595965e+12</td>\n",
       "      <td>10.630000</td>\n",
       "      <td>95791.0</td>\n",
       "      <td>5.736667</td>\n",
       "      <td>8.316154</td>\n",
       "      <td>1284.187</td>\n",
       "      <td>5.736667</td>\n",
       "      <td>112.998038</td>\n",
       "      <td>5685938.0</td>\n",
       "      <td>1.75</td>\n",
       "      <td>282002.000000</td>\n",
       "      <td>3.933333</td>\n",
       "      <td>103.674000</td>\n",
       "    </tr>\n",
       "    <tr>\n",
       "      <th>2000Q3</th>\n",
       "      <td>13178.419</td>\n",
       "      <td>2.595965e+12</td>\n",
       "      <td>17.480000</td>\n",
       "      <td>265705.0</td>\n",
       "      <td>6.000000</td>\n",
       "      <td>8.020000</td>\n",
       "      <td>1291.650</td>\n",
       "      <td>6.000000</td>\n",
       "      <td>120.024838</td>\n",
       "      <td>5674179.0</td>\n",
       "      <td>1.75</td>\n",
       "      <td>282768.666667</td>\n",
       "      <td>4.000000</td>\n",
       "      <td>105.785667</td>\n",
       "    </tr>\n",
       "    <tr>\n",
       "      <th>2000Q4</th>\n",
       "      <td>13260.506</td>\n",
       "      <td>2.595965e+12</td>\n",
       "      <td>24.690000</td>\n",
       "      <td>293891.0</td>\n",
       "      <td>6.000000</td>\n",
       "      <td>7.620769</td>\n",
       "      <td>1306.215</td>\n",
       "      <td>6.000000</td>\n",
       "      <td>125.684062</td>\n",
       "      <td>5662216.0</td>\n",
       "      <td>1.75</td>\n",
       "      <td>283518.666667</td>\n",
       "      <td>3.900000</td>\n",
       "      <td>108.272667</td>\n",
       "    </tr>\n",
       "    <tr>\n",
       "      <th>2001Q1</th>\n",
       "      <td>13222.690</td>\n",
       "      <td>2.685927e+12</td>\n",
       "      <td>32.106667</td>\n",
       "      <td>746537.0</td>\n",
       "      <td>5.110000</td>\n",
       "      <td>7.006923</td>\n",
       "      <td>1301.000</td>\n",
       "      <td>5.110000</td>\n",
       "      <td>130.251223</td>\n",
       "      <td>5773740.0</td>\n",
       "      <td>1.00</td>\n",
       "      <td>284168.666667</td>\n",
       "      <td>4.233333</td>\n",
       "      <td>110.484000</td>\n",
       "    </tr>\n",
       "  </tbody>\n",
       "</table>\n",
       "</div>"
      ],
      "text/plain": [
       "              GDP        Income  Inflation  Market Flow  Market Level  \\\n",
       "Date                                                                    \n",
       "2000Q1  12924.179  2.595965e+12   4.096667     273021.0      5.193333   \n",
       "2000Q2  13160.842  2.595965e+12  10.630000      95791.0      5.736667   \n",
       "2000Q3  13178.419  2.595965e+12  17.480000     265705.0      6.000000   \n",
       "2000Q4  13260.506  2.595965e+12  24.690000     293891.0      6.000000   \n",
       "2001Q1  13222.690  2.685927e+12  32.106667     746537.0      5.110000   \n",
       "\n",
       "        Mortgage Rate       Tax  Intrest Rates  House Loans  Federal_Debt  \\\n",
       "Date                                                                        \n",
       "2000Q1       8.256923  1272.073       5.193333   106.641623     5773392.0   \n",
       "2000Q2       8.316154  1284.187       5.736667   112.998038     5685938.0   \n",
       "2000Q3       8.020000  1291.650       6.000000   120.024838     5674179.0   \n",
       "2000Q4       7.620769  1306.215       6.000000   125.684062     5662216.0   \n",
       "2001Q1       7.006923  1301.000       5.110000   130.251223     5773740.0   \n",
       "\n",
       "        Institution Fails     Population  Unemployment         HPI  \n",
       "Date                                                                \n",
       "2000Q1               1.75  281304.333333      4.033333  101.339333  \n",
       "2000Q2               1.75  282002.000000      3.933333  103.674000  \n",
       "2000Q3               1.75  282768.666667      4.000000  105.785667  \n",
       "2000Q4               1.75  283518.666667      3.900000  108.272667  \n",
       "2001Q1               1.00  284168.666667      4.233333  110.484000  "
      ]
     },
     "execution_count": 16,
     "metadata": {},
     "output_type": "execute_result"
    }
   ],
   "source": [
    "df_list=[GDP,GPI,Inf,Market,Level,Mortgage,Tax,Intrest,Loans,Debt,Fails,Population,Unemp,HPI]\n",
    "df=pd.concat(df_list, axis=1).reindex(HPI.index)\n",
    "df.head()"
   ]
  },
  {
   "cell_type": "markdown",
   "metadata": {
    "id": "bX3zCOJbVtTt"
   },
   "source": [
    "## Data Preprocessing"
   ]
  },
  {
   "cell_type": "markdown",
   "metadata": {
    "id": "Bbj-bhxkVtTu"
   },
   "source": [
    "### Data Cleaning"
   ]
  },
  {
   "cell_type": "code",
   "execution_count": 17,
   "metadata": {
    "colab": {
     "base_uri": "https://localhost:8080/",
     "height": 272
    },
    "id": "aTBQlbteVtTu",
    "outputId": "0b2fc127-3b87-42e6-87d2-79521c0d2ad2"
   },
   "outputs": [
    {
     "data": {
      "text/html": [
       "<div>\n",
       "<style scoped>\n",
       "    .dataframe tbody tr th:only-of-type {\n",
       "        vertical-align: middle;\n",
       "    }\n",
       "\n",
       "    .dataframe tbody tr th {\n",
       "        vertical-align: top;\n",
       "    }\n",
       "\n",
       "    .dataframe thead th {\n",
       "        text-align: right;\n",
       "    }\n",
       "</style>\n",
       "<table border=\"1\" class=\"dataframe\">\n",
       "  <thead>\n",
       "    <tr style=\"text-align: right;\">\n",
       "      <th></th>\n",
       "      <th>GDP</th>\n",
       "      <th>Income</th>\n",
       "      <th>Inflation</th>\n",
       "      <th>Market Flow</th>\n",
       "      <th>Market Level</th>\n",
       "      <th>Mortgage Rate</th>\n",
       "      <th>Tax</th>\n",
       "      <th>Intrest Rates</th>\n",
       "      <th>House Loans</th>\n",
       "      <th>Federal_Debt</th>\n",
       "      <th>Institution Fails</th>\n",
       "      <th>Population</th>\n",
       "      <th>Unemployment</th>\n",
       "      <th>HPI</th>\n",
       "    </tr>\n",
       "    <tr>\n",
       "      <th>Date</th>\n",
       "      <th></th>\n",
       "      <th></th>\n",
       "      <th></th>\n",
       "      <th></th>\n",
       "      <th></th>\n",
       "      <th></th>\n",
       "      <th></th>\n",
       "      <th></th>\n",
       "      <th></th>\n",
       "      <th></th>\n",
       "      <th></th>\n",
       "      <th></th>\n",
       "      <th></th>\n",
       "      <th></th>\n",
       "    </tr>\n",
       "  </thead>\n",
       "  <tbody>\n",
       "    <tr>\n",
       "      <th>2019Q4</th>\n",
       "      <td>19253.959</td>\n",
       "      <td>5.422503e+12</td>\n",
       "      <td>470.570000</td>\n",
       "      <td>510432.0</td>\n",
       "      <td>2.250000</td>\n",
       "      <td>3.700000</td>\n",
       "      <td>2177.120</td>\n",
       "      <td>2.250000</td>\n",
       "      <td>325.311969</td>\n",
       "      <td>23201380.0</td>\n",
       "      <td>1.0</td>\n",
       "      <td>329186.333333</td>\n",
       "      <td>3.600000</td>\n",
       "      <td>212.534333</td>\n",
       "    </tr>\n",
       "    <tr>\n",
       "      <th>2020Q1</th>\n",
       "      <td>19010.848</td>\n",
       "      <td>NaN</td>\n",
       "      <td>476.696667</td>\n",
       "      <td>3093728.0</td>\n",
       "      <td>1.583333</td>\n",
       "      <td>3.521538</td>\n",
       "      <td>2149.983</td>\n",
       "      <td>1.583333</td>\n",
       "      <td>318.236869</td>\n",
       "      <td>23223813.0</td>\n",
       "      <td>1.0</td>\n",
       "      <td>329529.333333</td>\n",
       "      <td>3.800000</td>\n",
       "      <td>215.628667</td>\n",
       "    </tr>\n",
       "    <tr>\n",
       "      <th>2020Q2</th>\n",
       "      <td>17302.511</td>\n",
       "      <td>NaN</td>\n",
       "      <td>482.493333</td>\n",
       "      <td>1300857.0</td>\n",
       "      <td>0.250000</td>\n",
       "      <td>3.239231</td>\n",
       "      <td>1929.685</td>\n",
       "      <td>0.250000</td>\n",
       "      <td>311.028977</td>\n",
       "      <td>26477241.0</td>\n",
       "      <td>1.0</td>\n",
       "      <td>329897.333333</td>\n",
       "      <td>13.066667</td>\n",
       "      <td>217.939333</td>\n",
       "    </tr>\n",
       "    <tr>\n",
       "      <th>2020Q3</th>\n",
       "      <td>18596.521</td>\n",
       "      <td>NaN</td>\n",
       "      <td>488.190000</td>\n",
       "      <td>-1054343.0</td>\n",
       "      <td>0.250000</td>\n",
       "      <td>2.952308</td>\n",
       "      <td>2064.021</td>\n",
       "      <td>0.250000</td>\n",
       "      <td>299.715000</td>\n",
       "      <td>26945391.0</td>\n",
       "      <td>1.0</td>\n",
       "      <td>330367.333333</td>\n",
       "      <td>8.800000</td>\n",
       "      <td>222.563333</td>\n",
       "    </tr>\n",
       "    <tr>\n",
       "      <th>2020Q4</th>\n",
       "      <td>18783.902</td>\n",
       "      <td>NaN</td>\n",
       "      <td>493.700000</td>\n",
       "      <td>-533570.0</td>\n",
       "      <td>0.250000</td>\n",
       "      <td>2.760714</td>\n",
       "      <td>NaN</td>\n",
       "      <td>0.250000</td>\n",
       "      <td>288.463523</td>\n",
       "      <td>NaN</td>\n",
       "      <td>1.0</td>\n",
       "      <td>330834.666667</td>\n",
       "      <td>6.766667</td>\n",
       "      <td>232.546333</td>\n",
       "    </tr>\n",
       "  </tbody>\n",
       "</table>\n",
       "</div>"
      ],
      "text/plain": [
       "              GDP        Income   Inflation  Market Flow  Market Level  \\\n",
       "Date                                                                     \n",
       "2019Q4  19253.959  5.422503e+12  470.570000     510432.0      2.250000   \n",
       "2020Q1  19010.848           NaN  476.696667    3093728.0      1.583333   \n",
       "2020Q2  17302.511           NaN  482.493333    1300857.0      0.250000   \n",
       "2020Q3  18596.521           NaN  488.190000   -1054343.0      0.250000   \n",
       "2020Q4  18783.902           NaN  493.700000    -533570.0      0.250000   \n",
       "\n",
       "        Mortgage Rate       Tax  Intrest Rates  House Loans  Federal_Debt  \\\n",
       "Date                                                                        \n",
       "2019Q4       3.700000  2177.120       2.250000   325.311969    23201380.0   \n",
       "2020Q1       3.521538  2149.983       1.583333   318.236869    23223813.0   \n",
       "2020Q2       3.239231  1929.685       0.250000   311.028977    26477241.0   \n",
       "2020Q3       2.952308  2064.021       0.250000   299.715000    26945391.0   \n",
       "2020Q4       2.760714       NaN       0.250000   288.463523           NaN   \n",
       "\n",
       "        Institution Fails     Population  Unemployment         HPI  \n",
       "Date                                                                \n",
       "2019Q4                1.0  329186.333333      3.600000  212.534333  \n",
       "2020Q1                1.0  329529.333333      3.800000  215.628667  \n",
       "2020Q2                1.0  329897.333333     13.066667  217.939333  \n",
       "2020Q3                1.0  330367.333333      8.800000  222.563333  \n",
       "2020Q4                1.0  330834.666667      6.766667  232.546333  "
      ]
     },
     "execution_count": 17,
     "metadata": {},
     "output_type": "execute_result"
    }
   ],
   "source": [
    "df.tail()"
   ]
  },
  {
   "cell_type": "code",
   "execution_count": 18,
   "metadata": {
    "colab": {
     "base_uri": "https://localhost:8080/"
    },
    "id": "vHMzLKBJVtTu",
    "outputId": "5d1b4c48-450d-4690-899e-d8169856cb3a"
   },
   "outputs": [
    {
     "data": {
      "text/plain": [
       "GDP                  0\n",
       "Income               4\n",
       "Inflation            0\n",
       "Market Flow          0\n",
       "Market Level         0\n",
       "Mortgage Rate        0\n",
       "Tax                  1\n",
       "Intrest Rates        0\n",
       "House Loans          0\n",
       "Federal_Debt         1\n",
       "Institution Fails    0\n",
       "Population           0\n",
       "Unemployment         0\n",
       "HPI                  0\n",
       "dtype: int64"
      ]
     },
     "execution_count": 18,
     "metadata": {},
     "output_type": "execute_result"
    }
   ],
   "source": [
    "#Checking for null values\n",
    "df.isna().sum()"
   ]
  },
  {
   "cell_type": "markdown",
   "metadata": {
    "id": "WO8N6D1_VtTu"
   },
   "source": [
    "We observe there are null values, so to fill the Tax and Debt Null values we took the mean of the vales of other Quaters, While for income we took the Income growth from 2018 to 2019 and calculated the growth from 2019 to 2020 assuming the same "
   ]
  },
  {
   "cell_type": "code",
   "execution_count": 19,
   "metadata": {
    "id": "jhlCCPJ9VtTv"
   },
   "outputs": [],
   "source": [
    "df.Federal_Debt=df.Federal_Debt.fillna(df[df.index.year==2020].Federal_Debt.mean())\n",
    "df.Tax=df.Tax.fillna(df[df.index.year==2020].Tax.mean())\n",
    "df.Income=df.Income.fillna(int(df[df.index==\"2019Q1\"][\"Income\"])+(int(df[df.index==\"2019Q1\"][\"Income\"])-int(df[df.index==\"2018Q1\"][\"Income\"])))"
   ]
  },
  {
   "cell_type": "code",
   "execution_count": 20,
   "metadata": {
    "colab": {
     "base_uri": "https://localhost:8080/"
    },
    "id": "DHkkUmjFVtTv",
    "outputId": "3565780c-66ce-4821-df4f-8c3345895fb8"
   },
   "outputs": [
    {
     "data": {
      "text/plain": [
       "GDP                  0\n",
       "Income               0\n",
       "Inflation            0\n",
       "Market Flow          0\n",
       "Market Level         0\n",
       "Mortgage Rate        0\n",
       "Tax                  0\n",
       "Intrest Rates        0\n",
       "House Loans          0\n",
       "Federal_Debt         0\n",
       "Institution Fails    0\n",
       "Population           0\n",
       "Unemployment         0\n",
       "HPI                  0\n",
       "dtype: int64"
      ]
     },
     "execution_count": 20,
     "metadata": {},
     "output_type": "execute_result"
    }
   ],
   "source": [
    "#Checking for null values\n",
    "df.isna().sum()"
   ]
  },
  {
   "cell_type": "markdown",
   "metadata": {
    "id": "SjHBTWBvVtTv"
   },
   "source": [
    "## Data Normalization"
   ]
  },
  {
   "cell_type": "code",
   "execution_count": 21,
   "metadata": {
    "colab": {
     "base_uri": "https://localhost:8080/"
    },
    "id": "sDRt3gplVtTw",
    "outputId": "f8fef42d-3350-4b8a-c1de-76c5c70b88c8"
   },
   "outputs": [
    {
     "data": {
      "text/plain": [
       "['GDP',\n",
       " 'Income',\n",
       " 'Inflation',\n",
       " 'Market Flow',\n",
       " 'Market Level',\n",
       " 'Mortgage Rate',\n",
       " 'Tax',\n",
       " 'Intrest Rates',\n",
       " 'House Loans',\n",
       " 'Federal_Debt',\n",
       " 'Institution Fails',\n",
       " 'Population',\n",
       " 'Unemployment']"
      ]
     },
     "execution_count": 21,
     "metadata": {},
     "output_type": "execute_result"
    }
   ],
   "source": [
    "cols=list(df.columns)\n",
    "cols.remove('HPI')\n",
    "cols"
   ]
  },
  {
   "cell_type": "code",
   "execution_count": 22,
   "metadata": {
    "colab": {
     "base_uri": "https://localhost:8080/",
     "height": 252
    },
    "id": "Z4ozbMqMVtTw",
    "outputId": "c1fb90c3-8e78-4d1f-ba40-fc160c93cb43"
   },
   "outputs": [
    {
     "data": {
      "text/html": [
       "<div>\n",
       "<style scoped>\n",
       "    .dataframe tbody tr th:only-of-type {\n",
       "        vertical-align: middle;\n",
       "    }\n",
       "\n",
       "    .dataframe tbody tr th {\n",
       "        vertical-align: top;\n",
       "    }\n",
       "\n",
       "    .dataframe thead th {\n",
       "        text-align: right;\n",
       "    }\n",
       "</style>\n",
       "<table border=\"1\" class=\"dataframe\">\n",
       "  <thead>\n",
       "    <tr style=\"text-align: right;\">\n",
       "      <th></th>\n",
       "      <th>GDP</th>\n",
       "      <th>Income</th>\n",
       "      <th>Inflation</th>\n",
       "      <th>Market Flow</th>\n",
       "      <th>Market Level</th>\n",
       "      <th>Mortgage Rate</th>\n",
       "      <th>Tax</th>\n",
       "      <th>Intrest Rates</th>\n",
       "      <th>House Loans</th>\n",
       "      <th>Federal_Debt</th>\n",
       "      <th>Institution Fails</th>\n",
       "      <th>Population</th>\n",
       "      <th>Unemployment</th>\n",
       "      <th>HPI</th>\n",
       "    </tr>\n",
       "    <tr>\n",
       "      <th>Date</th>\n",
       "      <th></th>\n",
       "      <th></th>\n",
       "      <th></th>\n",
       "      <th></th>\n",
       "      <th></th>\n",
       "      <th></th>\n",
       "      <th></th>\n",
       "      <th></th>\n",
       "      <th></th>\n",
       "      <th></th>\n",
       "      <th></th>\n",
       "      <th></th>\n",
       "      <th></th>\n",
       "      <th></th>\n",
       "    </tr>\n",
       "  </thead>\n",
       "  <tbody>\n",
       "    <tr>\n",
       "      <th>2000Q1</th>\n",
       "      <td>0.000000</td>\n",
       "      <td>0.000000</td>\n",
       "      <td>0.000000</td>\n",
       "      <td>0.319995</td>\n",
       "      <td>0.823889</td>\n",
       "      <td>0.989338</td>\n",
       "      <td>0.234576</td>\n",
       "      <td>0.823889</td>\n",
       "      <td>0.000000</td>\n",
       "      <td>0.005224</td>\n",
       "      <td>0.044586</td>\n",
       "      <td>0.000000</td>\n",
       "      <td>0.045775</td>\n",
       "      <td>101.339333</td>\n",
       "    </tr>\n",
       "    <tr>\n",
       "      <th>2000Q2</th>\n",
       "      <td>0.037389</td>\n",
       "      <td>0.000000</td>\n",
       "      <td>0.013344</td>\n",
       "      <td>0.277270</td>\n",
       "      <td>0.914444</td>\n",
       "      <td>1.000000</td>\n",
       "      <td>0.244821</td>\n",
       "      <td>0.914444</td>\n",
       "      <td>0.012690</td>\n",
       "      <td>0.001115</td>\n",
       "      <td>0.044586</td>\n",
       "      <td>0.014086</td>\n",
       "      <td>0.035211</td>\n",
       "      <td>103.674000</td>\n",
       "    </tr>\n",
       "    <tr>\n",
       "      <th>2000Q3</th>\n",
       "      <td>0.040166</td>\n",
       "      <td>0.000000</td>\n",
       "      <td>0.027335</td>\n",
       "      <td>0.318232</td>\n",
       "      <td>0.958333</td>\n",
       "      <td>0.946691</td>\n",
       "      <td>0.251132</td>\n",
       "      <td>0.958333</td>\n",
       "      <td>0.026718</td>\n",
       "      <td>0.000562</td>\n",
       "      <td>0.044586</td>\n",
       "      <td>0.029564</td>\n",
       "      <td>0.042254</td>\n",
       "      <td>105.785667</td>\n",
       "    </tr>\n",
       "    <tr>\n",
       "      <th>2000Q4</th>\n",
       "      <td>0.053134</td>\n",
       "      <td>0.000000</td>\n",
       "      <td>0.042061</td>\n",
       "      <td>0.325027</td>\n",
       "      <td>0.958333</td>\n",
       "      <td>0.874828</td>\n",
       "      <td>0.263450</td>\n",
       "      <td>0.958333</td>\n",
       "      <td>0.038016</td>\n",
       "      <td>0.000000</td>\n",
       "      <td>0.044586</td>\n",
       "      <td>0.044707</td>\n",
       "      <td>0.031690</td>\n",
       "      <td>108.272667</td>\n",
       "    </tr>\n",
       "    <tr>\n",
       "      <th>2001Q1</th>\n",
       "      <td>0.047160</td>\n",
       "      <td>0.029596</td>\n",
       "      <td>0.057210</td>\n",
       "      <td>0.434149</td>\n",
       "      <td>0.810000</td>\n",
       "      <td>0.764334</td>\n",
       "      <td>0.259040</td>\n",
       "      <td>0.810000</td>\n",
       "      <td>0.047133</td>\n",
       "      <td>0.005240</td>\n",
       "      <td>0.025478</td>\n",
       "      <td>0.057830</td>\n",
       "      <td>0.066901</td>\n",
       "      <td>110.484000</td>\n",
       "    </tr>\n",
       "  </tbody>\n",
       "</table>\n",
       "</div>"
      ],
      "text/plain": [
       "             GDP    Income  Inflation  Market Flow  Market Level  \\\n",
       "Date                                                               \n",
       "2000Q1  0.000000  0.000000   0.000000     0.319995      0.823889   \n",
       "2000Q2  0.037389  0.000000   0.013344     0.277270      0.914444   \n",
       "2000Q3  0.040166  0.000000   0.027335     0.318232      0.958333   \n",
       "2000Q4  0.053134  0.000000   0.042061     0.325027      0.958333   \n",
       "2001Q1  0.047160  0.029596   0.057210     0.434149      0.810000   \n",
       "\n",
       "        Mortgage Rate       Tax  Intrest Rates  House Loans  Federal_Debt  \\\n",
       "Date                                                                        \n",
       "2000Q1       0.989338  0.234576       0.823889     0.000000      0.005224   \n",
       "2000Q2       1.000000  0.244821       0.914444     0.012690      0.001115   \n",
       "2000Q3       0.946691  0.251132       0.958333     0.026718      0.000562   \n",
       "2000Q4       0.874828  0.263450       0.958333     0.038016      0.000000   \n",
       "2001Q1       0.764334  0.259040       0.810000     0.047133      0.005240   \n",
       "\n",
       "        Institution Fails  Population  Unemployment         HPI  \n",
       "Date                                                             \n",
       "2000Q1           0.044586    0.000000      0.045775  101.339333  \n",
       "2000Q2           0.044586    0.014086      0.035211  103.674000  \n",
       "2000Q3           0.044586    0.029564      0.042254  105.785667  \n",
       "2000Q4           0.044586    0.044707      0.031690  108.272667  \n",
       "2001Q1           0.025478    0.057830      0.066901  110.484000  "
      ]
     },
     "execution_count": 22,
     "metadata": {},
     "output_type": "execute_result"
    }
   ],
   "source": [
    "scaler=MinMaxScaler()\n",
    "scaler.fit(df[cols])\n",
    "df[cols]=scaler.transform(df[cols])\n",
    "df.head()"
   ]
  },
  {
   "cell_type": "markdown",
   "metadata": {
    "id": "P_OT7oy0VtTw"
   },
   "source": [
    "## Data Visualization"
   ]
  },
  {
   "cell_type": "markdown",
   "metadata": {
    "id": "2sIMhOAWVtTw"
   },
   "source": [
    "### Corelation"
   ]
  },
  {
   "cell_type": "code",
   "execution_count": 23,
   "metadata": {
    "colab": {
     "base_uri": "https://localhost:8080/",
     "height": 321
    },
    "id": "KKirtcHkVtTw",
    "outputId": "82d61274-fa3c-45f5-8114-f3e0c5c3d44d"
   },
   "outputs": [
    {
     "data": {
      "image/png": "[encoded data removed]",
      "text/plain": [
       "<Figure size 432x288 with 2 Axes>"
      ]
     },
     "metadata": {
      "needs_background": "light"
     },
     "output_type": "display_data"
    }
   ],
   "source": [
    "import seaborn as sns\n",
    "\n",
    "ax = sns.heatmap(\n",
    "    df.corr(),                                  #Passing arguement whose heatmap is to be made\n",
    "    vmin=-1, vmax=1, center=0,                  #Defining dimensions of heatmap\n",
    "    cmap=sns.diverging_palette(20, 220, n=200), #Defining Colorpalatte for heatmap\n",
    "    square=True\n",
    ")\n",
    "\n",
    "ax.set_xticklabels(\n",
    "    ax.get_xticklabels(),\n",
    "    rotation=45,\n",
    "    horizontalalignment='right'\n",
    ");"
   ]
  },
  {
   "cell_type": "code",
   "execution_count": 24,
   "metadata": {
    "colab": {
     "base_uri": "https://localhost:8080/",
     "height": 537
    },
    "id": "HxGLRyvnVtTx",
    "outputId": "f5f8b160-05dc-40cc-af8c-85ad5c0eee8b"
   },
   "outputs": [
    {
     "data": {
      "text/html": [
       "<div>\n",
       "<style scoped>\n",
       "    .dataframe tbody tr th:only-of-type {\n",
       "        vertical-align: middle;\n",
       "    }\n",
       "\n",
       "    .dataframe tbody tr th {\n",
       "        vertical-align: top;\n",
       "    }\n",
       "\n",
       "    .dataframe thead th {\n",
       "        text-align: right;\n",
       "    }\n",
       "</style>\n",
       "<table border=\"1\" class=\"dataframe\">\n",
       "  <thead>\n",
       "    <tr style=\"text-align: right;\">\n",
       "      <th></th>\n",
       "      <th>GDP</th>\n",
       "      <th>Income</th>\n",
       "      <th>Inflation</th>\n",
       "      <th>Market Flow</th>\n",
       "      <th>Market Level</th>\n",
       "      <th>Mortgage Rate</th>\n",
       "      <th>Tax</th>\n",
       "      <th>Intrest Rates</th>\n",
       "      <th>House Loans</th>\n",
       "      <th>Federal_Debt</th>\n",
       "      <th>Institution Fails</th>\n",
       "      <th>Population</th>\n",
       "      <th>Unemployment</th>\n",
       "      <th>HPI</th>\n",
       "    </tr>\n",
       "  </thead>\n",
       "  <tbody>\n",
       "    <tr>\n",
       "      <th>GDP</th>\n",
       "      <td>1.000000</td>\n",
       "      <td>0.984056</td>\n",
       "      <td>0.972182</td>\n",
       "      <td>0.140046</td>\n",
       "      <td>-0.346740</td>\n",
       "      <td>-0.826048</td>\n",
       "      <td>0.926450</td>\n",
       "      <td>-0.346740</td>\n",
       "      <td>0.344630</td>\n",
       "      <td>0.948631</td>\n",
       "      <td>-0.094670</td>\n",
       "      <td>0.972357</td>\n",
       "      <td>-0.093925</td>\n",
       "      <td>0.858992</td>\n",
       "    </tr>\n",
       "    <tr>\n",
       "      <th>Income</th>\n",
       "      <td>0.984056</td>\n",
       "      <td>1.000000</td>\n",
       "      <td>0.984133</td>\n",
       "      <td>0.143644</td>\n",
       "      <td>-0.411538</td>\n",
       "      <td>-0.856852</td>\n",
       "      <td>0.917691</td>\n",
       "      <td>-0.411538</td>\n",
       "      <td>0.315658</td>\n",
       "      <td>0.981827</td>\n",
       "      <td>-0.072319</td>\n",
       "      <td>0.982251</td>\n",
       "      <td>0.009857</td>\n",
       "      <td>0.833876</td>\n",
       "    </tr>\n",
       "    <tr>\n",
       "      <th>Inflation</th>\n",
       "      <td>0.972182</td>\n",
       "      <td>0.984133</td>\n",
       "      <td>1.000000</td>\n",
       "      <td>0.067809</td>\n",
       "      <td>-0.507256</td>\n",
       "      <td>-0.901213</td>\n",
       "      <td>0.869411</td>\n",
       "      <td>-0.507256</td>\n",
       "      <td>0.446938</td>\n",
       "      <td>0.976092</td>\n",
       "      <td>0.069885</td>\n",
       "      <td>0.998885</td>\n",
       "      <td>0.126574</td>\n",
       "      <td>0.786724</td>\n",
       "    </tr>\n",
       "    <tr>\n",
       "      <th>Market Flow</th>\n",
       "      <td>0.140046</td>\n",
       "      <td>0.143644</td>\n",
       "      <td>0.067809</td>\n",
       "      <td>1.000000</td>\n",
       "      <td>0.338274</td>\n",
       "      <td>0.098120</td>\n",
       "      <td>0.264460</td>\n",
       "      <td>0.338274</td>\n",
       "      <td>-0.173275</td>\n",
       "      <td>0.056981</td>\n",
       "      <td>-0.390763</td>\n",
       "      <td>0.057309</td>\n",
       "      <td>-0.388243</td>\n",
       "      <td>0.246992</td>\n",
       "    </tr>\n",
       "    <tr>\n",
       "      <th>Market Level</th>\n",
       "      <td>-0.346740</td>\n",
       "      <td>-0.411538</td>\n",
       "      <td>-0.507256</td>\n",
       "      <td>0.338274</td>\n",
       "      <td>1.000000</td>\n",
       "      <td>0.709648</td>\n",
       "      <td>-0.165658</td>\n",
       "      <td>1.000000</td>\n",
       "      <td>-0.351705</td>\n",
       "      <td>-0.515375</td>\n",
       "      <td>-0.431539</td>\n",
       "      <td>-0.511912</td>\n",
       "      <td>-0.605375</td>\n",
       "      <td>-0.035737</td>\n",
       "    </tr>\n",
       "    <tr>\n",
       "      <th>Mortgage Rate</th>\n",
       "      <td>-0.826048</td>\n",
       "      <td>-0.856852</td>\n",
       "      <td>-0.901213</td>\n",
       "      <td>0.098120</td>\n",
       "      <td>0.709648</td>\n",
       "      <td>1.000000</td>\n",
       "      <td>-0.695798</td>\n",
       "      <td>0.709648</td>\n",
       "      <td>-0.483397</td>\n",
       "      <td>-0.891820</td>\n",
       "      <td>-0.167698</td>\n",
       "      <td>-0.906554</td>\n",
       "      <td>-0.328318</td>\n",
       "      <td>-0.589756</td>\n",
       "    </tr>\n",
       "    <tr>\n",
       "      <th>Tax</th>\n",
       "      <td>0.926450</td>\n",
       "      <td>0.917691</td>\n",
       "      <td>0.869411</td>\n",
       "      <td>0.264460</td>\n",
       "      <td>-0.165658</td>\n",
       "      <td>-0.695798</td>\n",
       "      <td>1.000000</td>\n",
       "      <td>-0.165658</td>\n",
       "      <td>0.163973</td>\n",
       "      <td>0.880481</td>\n",
       "      <td>-0.327039</td>\n",
       "      <td>0.875959</td>\n",
       "      <td>-0.278156</td>\n",
       "      <td>0.789110</td>\n",
       "    </tr>\n",
       "    <tr>\n",
       "      <th>Intrest Rates</th>\n",
       "      <td>-0.346740</td>\n",
       "      <td>-0.411538</td>\n",
       "      <td>-0.507256</td>\n",
       "      <td>0.338274</td>\n",
       "      <td>1.000000</td>\n",
       "      <td>0.709648</td>\n",
       "      <td>-0.165658</td>\n",
       "      <td>1.000000</td>\n",
       "      <td>-0.351705</td>\n",
       "      <td>-0.515375</td>\n",
       "      <td>-0.431539</td>\n",
       "      <td>-0.511912</td>\n",
       "      <td>-0.605375</td>\n",
       "      <td>-0.035737</td>\n",
       "    </tr>\n",
       "    <tr>\n",
       "      <th>House Loans</th>\n",
       "      <td>0.344630</td>\n",
       "      <td>0.315658</td>\n",
       "      <td>0.446938</td>\n",
       "      <td>-0.173275</td>\n",
       "      <td>-0.351705</td>\n",
       "      <td>-0.483397</td>\n",
       "      <td>0.163973</td>\n",
       "      <td>-0.351705</td>\n",
       "      <td>1.000000</td>\n",
       "      <td>0.283701</td>\n",
       "      <td>0.618542</td>\n",
       "      <td>0.447702</td>\n",
       "      <td>0.528758</td>\n",
       "      <td>0.255055</td>\n",
       "    </tr>\n",
       "    <tr>\n",
       "      <th>Federal_Debt</th>\n",
       "      <td>0.948631</td>\n",
       "      <td>0.981827</td>\n",
       "      <td>0.976092</td>\n",
       "      <td>0.056981</td>\n",
       "      <td>-0.515375</td>\n",
       "      <td>-0.891820</td>\n",
       "      <td>0.880481</td>\n",
       "      <td>-0.515375</td>\n",
       "      <td>0.283701</td>\n",
       "      <td>1.000000</td>\n",
       "      <td>-0.004038</td>\n",
       "      <td>0.976541</td>\n",
       "      <td>0.108352</td>\n",
       "      <td>0.738754</td>\n",
       "    </tr>\n",
       "    <tr>\n",
       "      <th>Institution Fails</th>\n",
       "      <td>-0.094670</td>\n",
       "      <td>-0.072319</td>\n",
       "      <td>0.069885</td>\n",
       "      <td>-0.390763</td>\n",
       "      <td>-0.431539</td>\n",
       "      <td>-0.167698</td>\n",
       "      <td>-0.327039</td>\n",
       "      <td>-0.431539</td>\n",
       "      <td>0.618542</td>\n",
       "      <td>-0.004038</td>\n",
       "      <td>1.000000</td>\n",
       "      <td>0.063195</td>\n",
       "      <td>0.752588</td>\n",
       "      <td>-0.276315</td>\n",
       "    </tr>\n",
       "    <tr>\n",
       "      <th>Population</th>\n",
       "      <td>0.972357</td>\n",
       "      <td>0.982251</td>\n",
       "      <td>0.998885</td>\n",
       "      <td>0.057309</td>\n",
       "      <td>-0.511912</td>\n",
       "      <td>-0.906554</td>\n",
       "      <td>0.875959</td>\n",
       "      <td>-0.511912</td>\n",
       "      <td>0.447702</td>\n",
       "      <td>0.976541</td>\n",
       "      <td>0.063195</td>\n",
       "      <td>1.000000</td>\n",
       "      <td>0.117224</td>\n",
       "      <td>0.774251</td>\n",
       "    </tr>\n",
       "    <tr>\n",
       "      <th>Unemployment</th>\n",
       "      <td>-0.093925</td>\n",
       "      <td>0.009857</td>\n",
       "      <td>0.126574</td>\n",
       "      <td>-0.388243</td>\n",
       "      <td>-0.605375</td>\n",
       "      <td>-0.328318</td>\n",
       "      <td>-0.278156</td>\n",
       "      <td>-0.605375</td>\n",
       "      <td>0.528758</td>\n",
       "      <td>0.108352</td>\n",
       "      <td>0.752588</td>\n",
       "      <td>0.117224</td>\n",
       "      <td>1.000000</td>\n",
       "      <td>-0.202435</td>\n",
       "    </tr>\n",
       "    <tr>\n",
       "      <th>HPI</th>\n",
       "      <td>0.858992</td>\n",
       "      <td>0.833876</td>\n",
       "      <td>0.786724</td>\n",
       "      <td>0.246992</td>\n",
       "      <td>-0.035737</td>\n",
       "      <td>-0.589756</td>\n",
       "      <td>0.789110</td>\n",
       "      <td>-0.035737</td>\n",
       "      <td>0.255055</td>\n",
       "      <td>0.738754</td>\n",
       "      <td>-0.276315</td>\n",
       "      <td>0.774251</td>\n",
       "      <td>-0.202435</td>\n",
       "      <td>1.000000</td>\n",
       "    </tr>\n",
       "  </tbody>\n",
       "</table>\n",
       "</div>"
      ],
      "text/plain": [
       "                        GDP    Income  Inflation  Market Flow  Market Level  \\\n",
       "GDP                1.000000  0.984056   0.972182     0.140046     -0.346740   \n",
       "Income             0.984056  1.000000   0.984133     0.143644     -0.411538   \n",
       "Inflation          0.972182  0.984133   1.000000     0.067809     -0.507256   \n",
       "Market Flow        0.140046  0.143644   0.067809     1.000000      0.338274   \n",
       "Market Level      -0.346740 -0.411538  -0.507256     0.338274      1.000000   \n",
       "Mortgage Rate     -0.826048 -0.856852  -0.901213     0.098120      0.709648   \n",
       "Tax                0.926450  0.917691   0.869411     0.264460     -0.165658   \n",
       "Intrest Rates     -0.346740 -0.411538  -0.507256     0.338274      1.000000   \n",
       "House Loans        0.344630  0.315658   0.446938    -0.173275     -0.351705   \n",
       "Federal_Debt       0.948631  0.981827   0.976092     0.056981     -0.515375   \n",
       "Institution Fails -0.094670 -0.072319   0.069885    -0.390763     -0.431539   \n",
       "Population         0.972357  0.982251   0.998885     0.057309     -0.511912   \n",
       "Unemployment      -0.093925  0.009857   0.126574    -0.388243     -0.605375   \n",
       "HPI                0.858992  0.833876   0.786724     0.246992     -0.035737   \n",
       "\n",
       "                   Mortgage Rate       Tax  Intrest Rates  House Loans  \\\n",
       "GDP                    -0.826048  0.926450      -0.346740     0.344630   \n",
       "Income                 -0.856852  0.917691      -0.411538     0.315658   \n",
       "Inflation              -0.901213  0.869411      -0.507256     0.446938   \n",
       "Market Flow             0.098120  0.264460       0.338274    -0.173275   \n",
       "Market Level            0.709648 -0.165658       1.000000    -0.351705   \n",
       "Mortgage Rate           1.000000 -0.695798       0.709648    -0.483397   \n",
       "Tax                    -0.695798  1.000000      -0.165658     0.163973   \n",
       "Intrest Rates           0.709648 -0.165658       1.000000    -0.351705   \n",
       "House Loans            -0.483397  0.163973      -0.351705     1.000000   \n",
       "Federal_Debt           -0.891820  0.880481      -0.515375     0.283701   \n",
       "Institution Fails      -0.167698 -0.327039      -0.431539     0.618542   \n",
       "Population             -0.906554  0.875959      -0.511912     0.447702   \n",
       "Unemployment           -0.328318 -0.278156      -0.605375     0.528758   \n",
       "HPI                    -0.589756  0.789110      -0.035737     0.255055   \n",
       "\n",
       "                   Federal_Debt  Institution Fails  Population  Unemployment  \\\n",
       "GDP                    0.948631          -0.094670    0.972357     -0.093925   \n",
       "Income                 0.981827          -0.072319    0.982251      0.009857   \n",
       "Inflation              0.976092           0.069885    0.998885      0.126574   \n",
       "Market Flow            0.056981          -0.390763    0.057309     -0.388243   \n",
       "Market Level          -0.515375          -0.431539   -0.511912     -0.605375   \n",
       "Mortgage Rate         -0.891820          -0.167698   -0.906554     -0.328318   \n",
       "Tax                    0.880481          -0.327039    0.875959     -0.278156   \n",
       "Intrest Rates         -0.515375          -0.431539   -0.511912     -0.605375   \n",
       "House Loans            0.283701           0.618542    0.447702      0.528758   \n",
       "Federal_Debt           1.000000          -0.004038    0.976541      0.108352   \n",
       "Institution Fails     -0.004038           1.000000    0.063195      0.752588   \n",
       "Population             0.976541           0.063195    1.000000      0.117224   \n",
       "Unemployment           0.108352           0.752588    0.117224      1.000000   \n",
       "HPI                    0.738754          -0.276315    0.774251     -0.202435   \n",
       "\n",
       "                        HPI  \n",
       "GDP                0.858992  \n",
       "Income             0.833876  \n",
       "Inflation          0.786724  \n",
       "Market Flow        0.246992  \n",
       "Market Level      -0.035737  \n",
       "Mortgage Rate     -0.589756  \n",
       "Tax                0.789110  \n",
       "Intrest Rates     -0.035737  \n",
       "House Loans        0.255055  \n",
       "Federal_Debt       0.738754  \n",
       "Institution Fails -0.276315  \n",
       "Population         0.774251  \n",
       "Unemployment      -0.202435  \n",
       "HPI                1.000000  "
      ]
     },
     "execution_count": 24,
     "metadata": {},
     "output_type": "execute_result"
    }
   ],
   "source": [
    "df.corr()"
   ]
  },
  {
   "cell_type": "markdown",
   "metadata": {
    "id": "ntAG7DjqVtTx"
   },
   "source": [
    "Money Market Level and Intrest Rates are not good predictors for HPI so we drop them. \n",
    "Later on while model training we droped even more columns (with corlation <0.5 to improve model training accuracy)"
   ]
  },
  {
   "cell_type": "code",
   "execution_count": 25,
   "metadata": {
    "id": "aeBYXIWMVtTx"
   },
   "outputs": [],
   "source": [
    "df.drop([\"Market Level\",\"Intrest Rates\",\"Market Flow\",\"House Loans\",\"Unemployment\",\"Institution Fails\"],axis=1,inplace=True)"
   ]
  },
  {
   "cell_type": "markdown",
   "metadata": {
    "id": "rYMa9bRBVtTx"
   },
   "source": [
    "### Scatter Plots"
   ]
  },
  {
   "cell_type": "markdown",
   "metadata": {},
   "source": [
    "We plot the remaining columns vs HPI to observe the trend and decide a model"
   ]
  },
  {
   "cell_type": "code",
   "execution_count": 26,
   "metadata": {
    "colab": {
     "base_uri": "https://localhost:8080/",
     "height": 1000
    },
    "id": "eBNAZSBTVtTx",
    "outputId": "4ff2e764-397e-4ecb-ce03-4757b3fcffba"
   },
   "outputs": [
    {
     "data": {
      "image/png": "[encoded data removed]",
      "text/plain": [
       "<Figure size 432x288 with 1 Axes>"
      ]
     },
     "metadata": {
      "needs_background": "light"
     },
     "output_type": "display_data"
    },
    {
     "data": {
      "image/png": "[encoded data removed]",
      "text/plain": [
       "<Figure size 432x288 with 1 Axes>"
      ]
     },
     "metadata": {
      "needs_background": "light"
     },
     "output_type": "display_data"
    },
    {
     "data": {
      "image/png": "[encoded data removed]",
      "text/plain": [
       "<Figure size 432x288 with 1 Axes>"
      ]
     },
     "metadata": {
      "needs_background": "light"
     },
     "output_type": "display_data"
    },
    {
     "data": {
      "image/png": "[encoded data removed]",
      "text/plain": [
       "<Figure size 432x288 with 1 Axes>"
      ]
     },
     "metadata": {
      "needs_background": "light"
     },
     "output_type": "display_data"
    },
    {
     "data": {
      "image/png": "[encoded data removed]",
      "text/plain": [
       "<Figure size 432x288 with 1 Axes>"
      ]
     },
     "metadata": {
      "needs_background": "light"
     },
     "output_type": "display_data"
    },
    {
     "data": {
      "image/png": "[encoded data removed]",
      "text/plain": [
       "<Figure size 432x288 with 1 Axes>"
      ]
     },
     "metadata": {
      "needs_background": "light"
     },
     "output_type": "display_data"
    },
    {
     "data": {
      "image/png": "[encoded data removed]",
      "text/plain": [
       "<Figure size 432x288 with 1 Axes>"
      ]
     },
     "metadata": {
      "needs_background": "light"
     },
     "output_type": "display_data"
    }
   ],
   "source": [
    "def Scatter_plot(df,X,y):\n",
    "    #Creating a figure and a subplot to plot the values\n",
    "    fig, ax = plt.subplots()\n",
    "    \n",
    "    #plotting the values on the graph\n",
    "    sns.scatterplot(data=df,x=X,y=y,ax=ax)\n",
    "    title=X+\" vs \"+y\n",
    "    \n",
    "    # Add title and labels\n",
    "    ax.set_title(title)\n",
    "    ax.set_xlabel(X)\n",
    "    ax.set_ylabel(y)\n",
    "    plt.show()\n",
    "    \n",
    "cols=list(df.columns)\n",
    "cols.remove(\"HPI\")\n",
    "for i in cols:\n",
    "    Scatter_plot(df,i,\"HPI\")"
   ]
  },
  {
   "cell_type": "markdown",
   "metadata": {
    "id": "JlO0FK_kVtTy"
   },
   "source": [
    "## Model Development"
   ]
  },
  {
   "cell_type": "markdown",
   "metadata": {},
   "source": [
    "#### Model Selection\n",
    "1. As most of the Data was avaliable for only Quaterly period we only have 80 Rows and hence Deep learning algos, RNN, LSTM models were not possible, and hence were producing -ve r2 score\n",
    "2. Polynomial Regression was applied, without any time dependency while considering even columns with small corelation, and with columns with >0.5 Corelation but that also yeilded in largely -ve r2 score (some even goint to -1120 and -2402)\n",
    "3. Other Methods such as Linear Regression, Ridge Regression, Lasso Regression, Nearest Neighbours and Bayesian Regression were also applied with different parameters but all resulted in only -ve r2 score\n",
    "4. Then time dependency was added in the dataset and was trained on Ploynomial Regression in which degree 3 ploynomial yeilded a positive r2 score but only 0.21\n",
    "5. Then on this dataset all other above mentioned techniques were tried out of which Ridge Regression yeilded the best result and hence was choosen. BayesianRidge and Linear Models produced the next best results (0.80)"
   ]
  },
  {
   "cell_type": "code",
   "execution_count": 27,
   "metadata": {
    "colab": {
     "base_uri": "https://localhost:8080/",
     "height": 241
    },
    "id": "TdiG5A1lKneV",
    "outputId": "daabed07-35dd-43f5-ce74-1cb5f39443da"
   },
   "outputs": [
    {
     "data": {
      "text/html": [
       "<div>\n",
       "<style scoped>\n",
       "    .dataframe tbody tr th:only-of-type {\n",
       "        vertical-align: middle;\n",
       "    }\n",
       "\n",
       "    .dataframe tbody tr th {\n",
       "        vertical-align: top;\n",
       "    }\n",
       "\n",
       "    .dataframe thead th {\n",
       "        text-align: right;\n",
       "    }\n",
       "</style>\n",
       "<table border=\"1\" class=\"dataframe\">\n",
       "  <thead>\n",
       "    <tr style=\"text-align: right;\">\n",
       "      <th></th>\n",
       "      <th>GDP(-3)</th>\n",
       "      <th>Income(-3)</th>\n",
       "      <th>Inflation(-3)</th>\n",
       "      <th>Mortgage Rate(-3)</th>\n",
       "      <th>Tax(-3)</th>\n",
       "      <th>Federal_Debt(-3)</th>\n",
       "      <th>Population(-3)</th>\n",
       "      <th>HPI(-3)</th>\n",
       "      <th>GDP(-2)</th>\n",
       "      <th>Income(-2)</th>\n",
       "      <th>...</th>\n",
       "      <th>Population(-1)</th>\n",
       "      <th>HPI(-1)</th>\n",
       "      <th>GDP</th>\n",
       "      <th>Income</th>\n",
       "      <th>Inflation</th>\n",
       "      <th>Mortgage Rate</th>\n",
       "      <th>Tax</th>\n",
       "      <th>Federal_Debt</th>\n",
       "      <th>Population</th>\n",
       "      <th>HPI</th>\n",
       "    </tr>\n",
       "  </thead>\n",
       "  <tbody>\n",
       "    <tr>\n",
       "      <th>0</th>\n",
       "      <td>0.000000</td>\n",
       "      <td>0.000000</td>\n",
       "      <td>0.000000</td>\n",
       "      <td>0.989338</td>\n",
       "      <td>0.234576</td>\n",
       "      <td>0.005224</td>\n",
       "      <td>0.000000</td>\n",
       "      <td>101.339333</td>\n",
       "      <td>0.037389</td>\n",
       "      <td>0.000000</td>\n",
       "      <td>...</td>\n",
       "      <td>0.029564</td>\n",
       "      <td>105.785667</td>\n",
       "      <td>0.053134</td>\n",
       "      <td>0.000000</td>\n",
       "      <td>0.042061</td>\n",
       "      <td>0.874828</td>\n",
       "      <td>0.263450</td>\n",
       "      <td>0.000000</td>\n",
       "      <td>0.044707</td>\n",
       "      <td>108.272667</td>\n",
       "    </tr>\n",
       "    <tr>\n",
       "      <th>1</th>\n",
       "      <td>0.037389</td>\n",
       "      <td>0.000000</td>\n",
       "      <td>0.013344</td>\n",
       "      <td>1.000000</td>\n",
       "      <td>0.244821</td>\n",
       "      <td>0.001115</td>\n",
       "      <td>0.014086</td>\n",
       "      <td>103.674000</td>\n",
       "      <td>0.040166</td>\n",
       "      <td>0.000000</td>\n",
       "      <td>...</td>\n",
       "      <td>0.044707</td>\n",
       "      <td>108.272667</td>\n",
       "      <td>0.047160</td>\n",
       "      <td>0.029596</td>\n",
       "      <td>0.057210</td>\n",
       "      <td>0.764334</td>\n",
       "      <td>0.259040</td>\n",
       "      <td>0.005240</td>\n",
       "      <td>0.057830</td>\n",
       "      <td>110.484000</td>\n",
       "    </tr>\n",
       "    <tr>\n",
       "      <th>2</th>\n",
       "      <td>0.040166</td>\n",
       "      <td>0.000000</td>\n",
       "      <td>0.027335</td>\n",
       "      <td>0.946691</td>\n",
       "      <td>0.251132</td>\n",
       "      <td>0.000562</td>\n",
       "      <td>0.029564</td>\n",
       "      <td>105.785667</td>\n",
       "      <td>0.053134</td>\n",
       "      <td>0.000000</td>\n",
       "      <td>...</td>\n",
       "      <td>0.057830</td>\n",
       "      <td>110.484000</td>\n",
       "      <td>0.059371</td>\n",
       "      <td>0.029596</td>\n",
       "      <td>0.072719</td>\n",
       "      <td>0.786488</td>\n",
       "      <td>0.250754</td>\n",
       "      <td>0.003035</td>\n",
       "      <td>0.071330</td>\n",
       "      <td>112.202333</td>\n",
       "    </tr>\n",
       "    <tr>\n",
       "      <th>3</th>\n",
       "      <td>0.053134</td>\n",
       "      <td>0.000000</td>\n",
       "      <td>0.042061</td>\n",
       "      <td>0.874828</td>\n",
       "      <td>0.263450</td>\n",
       "      <td>0.000000</td>\n",
       "      <td>0.044707</td>\n",
       "      <td>108.272667</td>\n",
       "      <td>0.047160</td>\n",
       "      <td>0.029596</td>\n",
       "      <td>...</td>\n",
       "      <td>0.071330</td>\n",
       "      <td>112.202333</td>\n",
       "      <td>0.050650</td>\n",
       "      <td>0.029596</td>\n",
       "      <td>0.088677</td>\n",
       "      <td>0.756580</td>\n",
       "      <td>0.092671</td>\n",
       "      <td>0.006825</td>\n",
       "      <td>0.086392</td>\n",
       "      <td>114.156333</td>\n",
       "    </tr>\n",
       "    <tr>\n",
       "      <th>4</th>\n",
       "      <td>0.047160</td>\n",
       "      <td>0.029596</td>\n",
       "      <td>0.057210</td>\n",
       "      <td>0.764334</td>\n",
       "      <td>0.259040</td>\n",
       "      <td>0.005240</td>\n",
       "      <td>0.057830</td>\n",
       "      <td>110.484000</td>\n",
       "      <td>0.059371</td>\n",
       "      <td>0.029596</td>\n",
       "      <td>...</td>\n",
       "      <td>0.086392</td>\n",
       "      <td>114.156333</td>\n",
       "      <td>0.056350</td>\n",
       "      <td>0.029596</td>\n",
       "      <td>0.103955</td>\n",
       "      <td>0.721825</td>\n",
       "      <td>0.182760</td>\n",
       "      <td>0.013213</td>\n",
       "      <td>0.101090</td>\n",
       "      <td>115.871333</td>\n",
       "    </tr>\n",
       "  </tbody>\n",
       "</table>\n",
       "<p>5 rows × 32 columns</p>\n",
       "</div>"
      ],
      "text/plain": [
       "    GDP(-3)  Income(-3)  Inflation(-3)  Mortgage Rate(-3)   Tax(-3)  \\\n",
       "0  0.000000    0.000000       0.000000           0.989338  0.234576   \n",
       "1  0.037389    0.000000       0.013344           1.000000  0.244821   \n",
       "2  0.040166    0.000000       0.027335           0.946691  0.251132   \n",
       "3  0.053134    0.000000       0.042061           0.874828  0.263450   \n",
       "4  0.047160    0.029596       0.057210           0.764334  0.259040   \n",
       "\n",
       "   Federal_Debt(-3)  Population(-3)     HPI(-3)   GDP(-2)  Income(-2)  ...  \\\n",
       "0          0.005224        0.000000  101.339333  0.037389    0.000000  ...   \n",
       "1          0.001115        0.014086  103.674000  0.040166    0.000000  ...   \n",
       "2          0.000562        0.029564  105.785667  0.053134    0.000000  ...   \n",
       "3          0.000000        0.044707  108.272667  0.047160    0.029596  ...   \n",
       "4          0.005240        0.057830  110.484000  0.059371    0.029596  ...   \n",
       "\n",
       "   Population(-1)     HPI(-1)       GDP    Income  Inflation  Mortgage Rate  \\\n",
       "0        0.029564  105.785667  0.053134  0.000000   0.042061       0.874828   \n",
       "1        0.044707  108.272667  0.047160  0.029596   0.057210       0.764334   \n",
       "2        0.057830  110.484000  0.059371  0.029596   0.072719       0.786488   \n",
       "3        0.071330  112.202333  0.050650  0.029596   0.088677       0.756580   \n",
       "4        0.086392  114.156333  0.056350  0.029596   0.103955       0.721825   \n",
       "\n",
       "        Tax  Federal_Debt  Population         HPI  \n",
       "0  0.263450      0.000000    0.044707  108.272667  \n",
       "1  0.259040      0.005240    0.057830  110.484000  \n",
       "2  0.250754      0.003035    0.071330  112.202333  \n",
       "3  0.092671      0.006825    0.086392  114.156333  \n",
       "4  0.182760      0.013213    0.101090  115.871333  \n",
       "\n",
       "[5 rows x 32 columns]"
      ]
     },
     "execution_count": 27,
     "metadata": {},
     "output_type": "execute_result"
    }
   ],
   "source": [
    "count=4\n",
    "dummy=[]\n",
    "for i in range(count-1,len(df)):\n",
    "  lst=[]\n",
    "  for j in range(count):\n",
    "    lst=lst+list(df.iloc[i-(3-j)])\n",
    "  dummy.append(lst)\n",
    "cols=[]\n",
    "for i in range(-3,0,1):\n",
    "  for j in list(df.columns):\n",
    "    cols.append(j+\"(\"+str(i)+\")\")\n",
    "cols=cols+list(df.columns)\n",
    "df=pd.DataFrame(dummy,columns=cols)\n",
    "df.head()"
   ]
  },
  {
   "cell_type": "code",
   "execution_count": 28,
   "metadata": {},
   "outputs": [],
   "source": [
    "def RR(independents,dependent,sp,df1,op):\n",
    "    df=df1\n",
    "    for column in df[independents]:\n",
    "        df[str(column)]=(df[str(column)]-np.mean(df[str(column)]))/np.std(df[str(column)])\n",
    "    from sklearn.linear_model import Ridge\n",
    "    X_train,X_test,y_train,y_test=train_test_split(df[independents],df[dependent],test_size=(1-(sp/100)),shuffle=False)\n",
    "    rr=Ridge(alpha=float(op))\n",
    "    rr.fit(X_train,y_train)\n",
    "    yhat=rr.predict(X_test)\n",
    "    RSS=np.mean((y_test-yhat)**2)\n",
    "    VS=rr.score(X_test,y_test)\n",
    "    MAE=np.mean(np.absolute(y_test-yhat))\n",
    "    R2=r2_score(y_test,yhat)\n",
    "    MSE=np.sqrt(metrics.mean_squared_error(y_test,yhat))\n",
    "    return rr,round(RSS,2),round(VS,2),round(MAE,2),round(R2,2),round(MSE,2)\n"
   ]
  },
  {
   "cell_type": "code",
   "execution_count": 29,
   "metadata": {
    "colab": {
     "base_uri": "https://localhost:8080/"
    },
    "id": "8upa24x1LI2v",
    "outputId": "d833bfe1-1d92-455c-8280-7035d68f7844"
   },
   "outputs": [
    {
     "data": {
      "text/plain": [
       "Index(['GDP(-3)', 'Income(-3)', 'Inflation(-3)', 'Mortgage Rate(-3)',\n",
       "       'Tax(-3)', 'Federal_Debt(-3)', 'Population(-3)', 'HPI(-3)', 'GDP(-2)',\n",
       "       'Income(-2)', 'Inflation(-2)', 'Mortgage Rate(-2)', 'Tax(-2)',\n",
       "       'Federal_Debt(-2)', 'Population(-2)', 'HPI(-2)', 'GDP(-1)',\n",
       "       'Income(-1)', 'Inflation(-1)', 'Mortgage Rate(-1)', 'Tax(-1)',\n",
       "       'Federal_Debt(-1)', 'Population(-1)', 'HPI(-1)', 'GDP', 'Income',\n",
       "       'Inflation', 'Mortgage Rate', 'Tax', 'Federal_Debt', 'Population'],\n",
       "      dtype='object')"
      ]
     },
     "execution_count": 29,
     "metadata": {},
     "output_type": "execute_result"
    }
   ],
   "source": [
    "cols=df.columns.drop(\"HPI\")\n",
    "cols"
   ]
  },
  {
   "cell_type": "code",
   "execution_count": 30,
   "metadata": {},
   "outputs": [
    {
     "data": {
      "text/plain": [
       "{'Model': 'Ridge(alpha=0.4)',\n",
       " 'RSS': 1.64,\n",
       " 'R2': 0.98,\n",
       " 'VS': 0.98,\n",
       " 'MAE': 0.88,\n",
       " 'MSE': 1.28}"
      ]
     },
     "execution_count": 30,
     "metadata": {},
     "output_type": "execute_result"
    }
   ],
   "source": [
    "dependent='HPI'\n",
    "sp=90\n",
    "model,RSS,VS,MAE,R2,MSE=RR(cols,dependent,sp,df,0.4)\n",
    "output={\"Model\":str(model),'RSS':RSS,\"R2\":R2,\"VS\":VS,\"MAE\":MAE,\"MSE\":MSE}\n",
    "output"
   ]
  },
  {
   "cell_type": "code",
   "execution_count": 31,
   "metadata": {},
   "outputs": [
    {
     "name": "stdout",
     "output_type": "stream",
     "text": [
      "Model used: Ridge(alpha=0.4)\n",
      "R2 Score: 0.98\n",
      "Residual Sum Of Squares: 1.64\n",
      "Variance Score: 0.98\n",
      "Mean Absolute Error: 0.88\n",
      "Mean Squared Error: 1.28\n"
     ]
    }
   ],
   "source": [
    "print(\"Model used:\",output[\"Model\"])\n",
    "print(\"R2 Score:\",output[\"R2\"])\n",
    "print(\"Residual Sum Of Squares:\",output[\"RSS\"])\n",
    "print(\"Variance Score:\",output[\"VS\"])\n",
    "print(\"Mean Absolute Error:\",output[\"MAE\"])\n",
    "print(\"Mean Squared Error:\",output[\"MSE\"])"
   ]
  },
  {
   "cell_type": "markdown",
   "metadata": {},
   "source": [
    "Thus, we have trained our Ridge model with 0.98 R2 Score. "
   ]
  }
 ],
 "metadata": {
  "colab": {
   "collapsed_sections": [],
   "name": "House_Price_Pred_Model.ipynb",
   "provenance": []
  },
  "kernelspec": {
   "display_name": "Python 3",
   "language": "python",
   "name": "python3"
  },
  "language_info": {
   "codemirror_mode": {
    "name": "ipython",
    "version": 3
   },
   "file_extension": ".py",
   "mimetype": "text/x-python",
   "name": "python",
   "nbconvert_exporter": "python",
   "pygments_lexer": "ipython3",
   "version": "3.8.5"
  }
 },
 "nbformat": 4,
 "nbformat_minor": 1
}
